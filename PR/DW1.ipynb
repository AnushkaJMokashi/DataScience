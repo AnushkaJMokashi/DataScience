{
 "cells": [
  {
   "cell_type": "code",
   "execution_count": 1,
   "id": "26af6b9e-3cef-4eb5-a912-5a170ea706d9",
   "metadata": {},
   "outputs": [],
   "source": [
    "import pandas as pd\n",
    "import numpy as np\n",
    "import seaborn as sns"
   ]
  },
  {
   "cell_type": "code",
   "execution_count": 2,
   "id": "461af846-80a9-4474-90ce-8303cb00b7f4",
   "metadata": {},
   "outputs": [
    {
     "data": {
      "text/html": [
       "<div>\n",
       "<style scoped>\n",
       "    .dataframe tbody tr th:only-of-type {\n",
       "        vertical-align: middle;\n",
       "    }\n",
       "\n",
       "    .dataframe tbody tr th {\n",
       "        vertical-align: top;\n",
       "    }\n",
       "\n",
       "    .dataframe thead th {\n",
       "        text-align: right;\n",
       "    }\n",
       "</style>\n",
       "<table border=\"1\" class=\"dataframe\">\n",
       "  <thead>\n",
       "    <tr style=\"text-align: right;\">\n",
       "      <th></th>\n",
       "      <th>Duration</th>\n",
       "      <th>Date</th>\n",
       "      <th>Pulse</th>\n",
       "      <th>Maxpulse</th>\n",
       "      <th>Calories</th>\n",
       "    </tr>\n",
       "  </thead>\n",
       "  <tbody>\n",
       "    <tr>\n",
       "      <th>0</th>\n",
       "      <td>60</td>\n",
       "      <td>2020/12/01'</td>\n",
       "      <td>110</td>\n",
       "      <td>130</td>\n",
       "      <td>409.1</td>\n",
       "    </tr>\n",
       "    <tr>\n",
       "      <th>1</th>\n",
       "      <td>60</td>\n",
       "      <td>2020/12/02'</td>\n",
       "      <td>117</td>\n",
       "      <td>145</td>\n",
       "      <td>479.0</td>\n",
       "    </tr>\n",
       "    <tr>\n",
       "      <th>2</th>\n",
       "      <td>60</td>\n",
       "      <td>2020/12/03'</td>\n",
       "      <td>103</td>\n",
       "      <td>135</td>\n",
       "      <td>340.0</td>\n",
       "    </tr>\n",
       "    <tr>\n",
       "      <th>3</th>\n",
       "      <td>45</td>\n",
       "      <td>2020/12/04'</td>\n",
       "      <td>109</td>\n",
       "      <td>175</td>\n",
       "      <td>282.4</td>\n",
       "    </tr>\n",
       "    <tr>\n",
       "      <th>4</th>\n",
       "      <td>45</td>\n",
       "      <td>2020/12/05'</td>\n",
       "      <td>117</td>\n",
       "      <td>148</td>\n",
       "      <td>406.0</td>\n",
       "    </tr>\n",
       "    <tr>\n",
       "      <th>5</th>\n",
       "      <td>60</td>\n",
       "      <td>2020/12/06'</td>\n",
       "      <td>102</td>\n",
       "      <td>127</td>\n",
       "      <td>-300.0</td>\n",
       "    </tr>\n",
       "    <tr>\n",
       "      <th>6</th>\n",
       "      <td>60</td>\n",
       "      <td>2020/12/07'</td>\n",
       "      <td>110</td>\n",
       "      <td>136</td>\n",
       "      <td>374.0</td>\n",
       "    </tr>\n",
       "    <tr>\n",
       "      <th>7</th>\n",
       "      <td>450</td>\n",
       "      <td>2020/12/08'</td>\n",
       "      <td>104</td>\n",
       "      <td>134</td>\n",
       "      <td>253.3</td>\n",
       "    </tr>\n",
       "    <tr>\n",
       "      <th>8</th>\n",
       "      <td>30</td>\n",
       "      <td>2020/12/09'</td>\n",
       "      <td>109</td>\n",
       "      <td>133</td>\n",
       "      <td>195.1</td>\n",
       "    </tr>\n",
       "    <tr>\n",
       "      <th>9</th>\n",
       "      <td>60</td>\n",
       "      <td>2020/12/10'</td>\n",
       "      <td>98</td>\n",
       "      <td>124</td>\n",
       "      <td>269.0</td>\n",
       "    </tr>\n",
       "    <tr>\n",
       "      <th>10</th>\n",
       "      <td>60</td>\n",
       "      <td>2020/12/11'</td>\n",
       "      <td>103</td>\n",
       "      <td>147</td>\n",
       "      <td>329.3</td>\n",
       "    </tr>\n",
       "    <tr>\n",
       "      <th>11</th>\n",
       "      <td>60</td>\n",
       "      <td>2020/12/12'</td>\n",
       "      <td>100</td>\n",
       "      <td>120</td>\n",
       "      <td>250.7</td>\n",
       "    </tr>\n",
       "    <tr>\n",
       "      <th>12</th>\n",
       "      <td>60</td>\n",
       "      <td>2020/12/12'</td>\n",
       "      <td>100</td>\n",
       "      <td>120</td>\n",
       "      <td>250.7</td>\n",
       "    </tr>\n",
       "    <tr>\n",
       "      <th>13</th>\n",
       "      <td>60</td>\n",
       "      <td>2020/12/13'</td>\n",
       "      <td>106</td>\n",
       "      <td>128</td>\n",
       "      <td>345.3</td>\n",
       "    </tr>\n",
       "    <tr>\n",
       "      <th>14</th>\n",
       "      <td>60</td>\n",
       "      <td>2020/12/14'</td>\n",
       "      <td>104</td>\n",
       "      <td>132</td>\n",
       "      <td>379.3</td>\n",
       "    </tr>\n",
       "    <tr>\n",
       "      <th>15</th>\n",
       "      <td>60</td>\n",
       "      <td>2020/12/15'</td>\n",
       "      <td>98</td>\n",
       "      <td>123</td>\n",
       "      <td>275.0</td>\n",
       "    </tr>\n",
       "    <tr>\n",
       "      <th>16</th>\n",
       "      <td>60</td>\n",
       "      <td>2020/12/16'</td>\n",
       "      <td>98</td>\n",
       "      <td>120</td>\n",
       "      <td>215.2</td>\n",
       "    </tr>\n",
       "    <tr>\n",
       "      <th>17</th>\n",
       "      <td>60</td>\n",
       "      <td>2020/12/17'</td>\n",
       "      <td>100</td>\n",
       "      <td>120</td>\n",
       "      <td>300.0</td>\n",
       "    </tr>\n",
       "    <tr>\n",
       "      <th>18</th>\n",
       "      <td>45</td>\n",
       "      <td>2020/12/18'</td>\n",
       "      <td>90</td>\n",
       "      <td>112</td>\n",
       "      <td>NaN</td>\n",
       "    </tr>\n",
       "    <tr>\n",
       "      <th>19</th>\n",
       "      <td>60</td>\n",
       "      <td>2020/12/19'</td>\n",
       "      <td>103</td>\n",
       "      <td>123</td>\n",
       "      <td>323.0</td>\n",
       "    </tr>\n",
       "    <tr>\n",
       "      <th>20</th>\n",
       "      <td>45</td>\n",
       "      <td>2020/12/20'</td>\n",
       "      <td>97</td>\n",
       "      <td>125</td>\n",
       "      <td>243.0</td>\n",
       "    </tr>\n",
       "    <tr>\n",
       "      <th>21</th>\n",
       "      <td>60</td>\n",
       "      <td>2020/12/21'</td>\n",
       "      <td>108</td>\n",
       "      <td>131</td>\n",
       "      <td>364.2</td>\n",
       "    </tr>\n",
       "    <tr>\n",
       "      <th>22</th>\n",
       "      <td>45</td>\n",
       "      <td>NaN</td>\n",
       "      <td>100</td>\n",
       "      <td>119</td>\n",
       "      <td>282.0</td>\n",
       "    </tr>\n",
       "    <tr>\n",
       "      <th>23</th>\n",
       "      <td>60</td>\n",
       "      <td>2020/12/23'</td>\n",
       "      <td>130</td>\n",
       "      <td>101</td>\n",
       "      <td>300.0</td>\n",
       "    </tr>\n",
       "    <tr>\n",
       "      <th>24</th>\n",
       "      <td>45</td>\n",
       "      <td>2020/12/24'</td>\n",
       "      <td>105</td>\n",
       "      <td>132</td>\n",
       "      <td>246.0</td>\n",
       "    </tr>\n",
       "    <tr>\n",
       "      <th>25</th>\n",
       "      <td>60</td>\n",
       "      <td>2020/12/25'</td>\n",
       "      <td>102</td>\n",
       "      <td>126</td>\n",
       "      <td>334.5</td>\n",
       "    </tr>\n",
       "    <tr>\n",
       "      <th>26</th>\n",
       "      <td>60</td>\n",
       "      <td>20201226</td>\n",
       "      <td>100</td>\n",
       "      <td>120</td>\n",
       "      <td>250.0</td>\n",
       "    </tr>\n",
       "    <tr>\n",
       "      <th>27</th>\n",
       "      <td>60</td>\n",
       "      <td>2020/12/27'</td>\n",
       "      <td>92</td>\n",
       "      <td>118</td>\n",
       "      <td>241.0</td>\n",
       "    </tr>\n",
       "    <tr>\n",
       "      <th>28</th>\n",
       "      <td>60</td>\n",
       "      <td>2020/12/28'</td>\n",
       "      <td>103</td>\n",
       "      <td>132</td>\n",
       "      <td>NaN</td>\n",
       "    </tr>\n",
       "    <tr>\n",
       "      <th>29</th>\n",
       "      <td>60</td>\n",
       "      <td>2020/12/29'</td>\n",
       "      <td>100</td>\n",
       "      <td>132</td>\n",
       "      <td>-280.0</td>\n",
       "    </tr>\n",
       "    <tr>\n",
       "      <th>30</th>\n",
       "      <td>60</td>\n",
       "      <td>2020/12/30'</td>\n",
       "      <td>102</td>\n",
       "      <td>129</td>\n",
       "      <td>380.3</td>\n",
       "    </tr>\n",
       "    <tr>\n",
       "      <th>31</th>\n",
       "      <td>60</td>\n",
       "      <td>2020/12/31'</td>\n",
       "      <td>92</td>\n",
       "      <td>115</td>\n",
       "      <td>243.0</td>\n",
       "    </tr>\n",
       "  </tbody>\n",
       "</table>\n",
       "</div>"
      ],
      "text/plain": [
       "    Duration         Date  Pulse  Maxpulse  Calories\n",
       "0         60  2020/12/01'    110       130     409.1\n",
       "1         60  2020/12/02'    117       145     479.0\n",
       "2         60  2020/12/03'    103       135     340.0\n",
       "3         45  2020/12/04'    109       175     282.4\n",
       "4         45  2020/12/05'    117       148     406.0\n",
       "5         60  2020/12/06'    102       127    -300.0\n",
       "6         60  2020/12/07'    110       136     374.0\n",
       "7        450  2020/12/08'    104       134     253.3\n",
       "8         30  2020/12/09'    109       133     195.1\n",
       "9         60  2020/12/10'     98       124     269.0\n",
       "10        60  2020/12/11'    103       147     329.3\n",
       "11        60  2020/12/12'    100       120     250.7\n",
       "12        60  2020/12/12'    100       120     250.7\n",
       "13        60  2020/12/13'    106       128     345.3\n",
       "14        60  2020/12/14'    104       132     379.3\n",
       "15        60  2020/12/15'     98       123     275.0\n",
       "16        60  2020/12/16'     98       120     215.2\n",
       "17        60  2020/12/17'    100       120     300.0\n",
       "18        45  2020/12/18'     90       112       NaN\n",
       "19        60  2020/12/19'    103       123     323.0\n",
       "20        45  2020/12/20'     97       125     243.0\n",
       "21        60  2020/12/21'    108       131     364.2\n",
       "22        45          NaN    100       119     282.0\n",
       "23        60  2020/12/23'    130       101     300.0\n",
       "24        45  2020/12/24'    105       132     246.0\n",
       "25        60  2020/12/25'    102       126     334.5\n",
       "26        60     20201226    100       120     250.0\n",
       "27        60  2020/12/27'     92       118     241.0\n",
       "28        60  2020/12/28'    103       132       NaN\n",
       "29        60  2020/12/29'    100       132    -280.0\n",
       "30        60  2020/12/30'    102       129     380.3\n",
       "31        60  2020/12/31'     92       115     243.0"
      ]
     },
     "execution_count": 2,
     "metadata": {},
     "output_type": "execute_result"
    }
   ],
   "source": [
    "df = pd.read_csv('dirtydata - dirtydata.csv')\n",
    "df"
   ]
  },
  {
   "cell_type": "code",
   "execution_count": 3,
   "id": "420c1894-f2c9-4bf5-9c4d-8552cd7e99c1",
   "metadata": {},
   "outputs": [
    {
     "name": "stdout",
     "output_type": "stream",
     "text": [
      "<class 'pandas.core.frame.DataFrame'>\n",
      "RangeIndex: 32 entries, 0 to 31\n",
      "Data columns (total 5 columns):\n",
      " #   Column    Non-Null Count  Dtype  \n",
      "---  ------    --------------  -----  \n",
      " 0   Duration  32 non-null     int64  \n",
      " 1   Date      31 non-null     object \n",
      " 2   Pulse     32 non-null     int64  \n",
      " 3   Maxpulse  32 non-null     int64  \n",
      " 4   Calories  30 non-null     float64\n",
      "dtypes: float64(1), int64(3), object(1)\n",
      "memory usage: 1.4+ KB\n"
     ]
    }
   ],
   "source": [
    "df.info()"
   ]
  },
  {
   "cell_type": "code",
   "execution_count": 4,
   "id": "646dd13a-c284-4a00-8823-0be7faf60809",
   "metadata": {},
   "outputs": [
    {
     "data": {
      "text/html": [
       "<div>\n",
       "<style scoped>\n",
       "    .dataframe tbody tr th:only-of-type {\n",
       "        vertical-align: middle;\n",
       "    }\n",
       "\n",
       "    .dataframe tbody tr th {\n",
       "        vertical-align: top;\n",
       "    }\n",
       "\n",
       "    .dataframe thead th {\n",
       "        text-align: right;\n",
       "    }\n",
       "</style>\n",
       "<table border=\"1\" class=\"dataframe\">\n",
       "  <thead>\n",
       "    <tr style=\"text-align: right;\">\n",
       "      <th></th>\n",
       "      <th>Duration</th>\n",
       "      <th>Pulse</th>\n",
       "      <th>Maxpulse</th>\n",
       "      <th>Calories</th>\n",
       "    </tr>\n",
       "  </thead>\n",
       "  <tbody>\n",
       "    <tr>\n",
       "      <th>count</th>\n",
       "      <td>32.000000</td>\n",
       "      <td>32.000000</td>\n",
       "      <td>32.000000</td>\n",
       "      <td>30.000000</td>\n",
       "    </tr>\n",
       "    <tr>\n",
       "      <th>mean</th>\n",
       "      <td>68.437500</td>\n",
       "      <td>103.500000</td>\n",
       "      <td>128.500000</td>\n",
       "      <td>266.013333</td>\n",
       "    </tr>\n",
       "    <tr>\n",
       "      <th>std</th>\n",
       "      <td>70.039591</td>\n",
       "      <td>7.832933</td>\n",
       "      <td>12.998759</td>\n",
       "      <td>164.876415</td>\n",
       "    </tr>\n",
       "    <tr>\n",
       "      <th>min</th>\n",
       "      <td>30.000000</td>\n",
       "      <td>90.000000</td>\n",
       "      <td>101.000000</td>\n",
       "      <td>-300.000000</td>\n",
       "    </tr>\n",
       "    <tr>\n",
       "      <th>25%</th>\n",
       "      <td>60.000000</td>\n",
       "      <td>100.000000</td>\n",
       "      <td>120.000000</td>\n",
       "      <td>247.000000</td>\n",
       "    </tr>\n",
       "    <tr>\n",
       "      <th>50%</th>\n",
       "      <td>60.000000</td>\n",
       "      <td>102.500000</td>\n",
       "      <td>127.500000</td>\n",
       "      <td>282.200000</td>\n",
       "    </tr>\n",
       "    <tr>\n",
       "      <th>75%</th>\n",
       "      <td>60.000000</td>\n",
       "      <td>106.500000</td>\n",
       "      <td>132.250000</td>\n",
       "      <td>343.975000</td>\n",
       "    </tr>\n",
       "    <tr>\n",
       "      <th>max</th>\n",
       "      <td>450.000000</td>\n",
       "      <td>130.000000</td>\n",
       "      <td>175.000000</td>\n",
       "      <td>479.000000</td>\n",
       "    </tr>\n",
       "  </tbody>\n",
       "</table>\n",
       "</div>"
      ],
      "text/plain": [
       "         Duration       Pulse    Maxpulse    Calories\n",
       "count   32.000000   32.000000   32.000000   30.000000\n",
       "mean    68.437500  103.500000  128.500000  266.013333\n",
       "std     70.039591    7.832933   12.998759  164.876415\n",
       "min     30.000000   90.000000  101.000000 -300.000000\n",
       "25%     60.000000  100.000000  120.000000  247.000000\n",
       "50%     60.000000  102.500000  127.500000  282.200000\n",
       "75%     60.000000  106.500000  132.250000  343.975000\n",
       "max    450.000000  130.000000  175.000000  479.000000"
      ]
     },
     "execution_count": 4,
     "metadata": {},
     "output_type": "execute_result"
    }
   ],
   "source": [
    "df.describe()"
   ]
  },
  {
   "cell_type": "code",
   "execution_count": 5,
   "id": "8990b1cc-d2bf-4a0a-b78e-97c07f4e9fe8",
   "metadata": {},
   "outputs": [
    {
     "data": {
      "text/plain": [
       "Duration    0\n",
       "Date        1\n",
       "Pulse       0\n",
       "Maxpulse    0\n",
       "Calories    2\n",
       "dtype: int64"
      ]
     },
     "execution_count": 5,
     "metadata": {},
     "output_type": "execute_result"
    }
   ],
   "source": [
    "df.isnull().sum()"
   ]
  },
  {
   "cell_type": "code",
   "execution_count": 6,
   "id": "31dbbd21-e35a-4510-b9ac-178f9d014044",
   "metadata": {},
   "outputs": [
    {
     "data": {
      "text/plain": [
       "(32, 5)"
      ]
     },
     "execution_count": 6,
     "metadata": {},
     "output_type": "execute_result"
    }
   ],
   "source": [
    "df.shape"
   ]
  },
  {
   "cell_type": "code",
   "execution_count": 7,
   "id": "4bc8513b-541c-403d-9873-08b9651f2290",
   "metadata": {},
   "outputs": [
    {
     "data": {
      "text/plain": [
       "Duration    32\n",
       "Date        31\n",
       "Pulse       32\n",
       "Maxpulse    32\n",
       "Calories    30\n",
       "dtype: int64"
      ]
     },
     "execution_count": 7,
     "metadata": {},
     "output_type": "execute_result"
    }
   ],
   "source": [
    "df.count(axis=\"rows\")"
   ]
  },
  {
   "cell_type": "code",
   "execution_count": 8,
   "id": "7697908e-da9a-4a8a-b90a-26b0cd228576",
   "metadata": {},
   "outputs": [
    {
     "data": {
      "text/plain": [
       "Duration      int64\n",
       "Date         object\n",
       "Pulse         int64\n",
       "Maxpulse      int64\n",
       "Calories    float64\n",
       "dtype: object"
      ]
     },
     "execution_count": 8,
     "metadata": {},
     "output_type": "execute_result"
    }
   ],
   "source": [
    "df.dtypes"
   ]
  },
  {
   "cell_type": "code",
   "execution_count": 9,
   "id": "4f7ccbbe-ad03-441d-92de-fc8a9231b82a",
   "metadata": {},
   "outputs": [
    {
     "data": {
      "text/plain": [
       "0     409.1\n",
       "1     479.0\n",
       "2     340.0\n",
       "3     282.4\n",
       "4     406.0\n",
       "5    -300.0\n",
       "6     374.0\n",
       "7     253.3\n",
       "8     195.1\n",
       "9     269.0\n",
       "10    329.3\n",
       "11    250.7\n",
       "12    250.7\n",
       "13    345.3\n",
       "14    379.3\n",
       "15    275.0\n",
       "16    215.2\n",
       "17    300.0\n",
       "18      NaN\n",
       "19    323.0\n",
       "20    243.0\n",
       "21    364.2\n",
       "22    282.0\n",
       "23    300.0\n",
       "24    246.0\n",
       "25    334.5\n",
       "26    250.0\n",
       "27    241.0\n",
       "28      NaN\n",
       "29   -280.0\n",
       "30    380.3\n",
       "31    243.0\n",
       "Name: Calories, dtype: float64"
      ]
     },
     "execution_count": 9,
     "metadata": {},
     "output_type": "execute_result"
    }
   ],
   "source": [
    "df['Calories']"
   ]
  },
  {
   "cell_type": "code",
   "execution_count": 10,
   "id": "e4e6cc76-c9da-4e43-b505-6d376de8326d",
   "metadata": {},
   "outputs": [],
   "source": [
    "df['Calories'].fillna(method=\"bfill\",inplace=True)"
   ]
  },
  {
   "cell_type": "code",
   "execution_count": 11,
   "id": "6c7ad2b6-20fc-4fc8-a602-732e5ab09c53",
   "metadata": {},
   "outputs": [
    {
     "data": {
      "text/plain": [
       "0"
      ]
     },
     "execution_count": 11,
     "metadata": {},
     "output_type": "execute_result"
    }
   ],
   "source": [
    "df['Calories'].isnull().sum()"
   ]
  },
  {
   "cell_type": "code",
   "execution_count": 12,
   "id": "9d72dd22-314c-4c8f-a8ef-2b4222438e13",
   "metadata": {},
   "outputs": [],
   "source": [
    "df['Calories'] = df['Calories'].abs()"
   ]
  },
  {
   "cell_type": "code",
   "execution_count": 13,
   "id": "187e2e8b-03a8-49d8-8218-5b751f6c44f7",
   "metadata": {},
   "outputs": [
    {
     "data": {
      "text/plain": [
       "0     409.1\n",
       "1     479.0\n",
       "2     340.0\n",
       "3     282.4\n",
       "4     406.0\n",
       "5     300.0\n",
       "6     374.0\n",
       "7     253.3\n",
       "8     195.1\n",
       "9     269.0\n",
       "10    329.3\n",
       "11    250.7\n",
       "12    250.7\n",
       "13    345.3\n",
       "14    379.3\n",
       "15    275.0\n",
       "16    215.2\n",
       "17    300.0\n",
       "18    323.0\n",
       "19    323.0\n",
       "20    243.0\n",
       "21    364.2\n",
       "22    282.0\n",
       "23    300.0\n",
       "24    246.0\n",
       "25    334.5\n",
       "26    250.0\n",
       "27    241.0\n",
       "28    280.0\n",
       "29    280.0\n",
       "30    380.3\n",
       "31    243.0\n",
       "Name: Calories, dtype: float64"
      ]
     },
     "execution_count": 13,
     "metadata": {},
     "output_type": "execute_result"
    }
   ],
   "source": [
    "df['Calories']"
   ]
  },
  {
   "cell_type": "code",
   "execution_count": 14,
   "id": "75c5c547-8b60-414d-ad45-66687617af27",
   "metadata": {},
   "outputs": [],
   "source": [
    "# data['Calories'].fillna(x,inplace = True)"
   ]
  },
  {
   "cell_type": "code",
   "execution_count": 15,
   "id": "a30b0175-fc30-4f8c-bd3e-3e00771817eb",
   "metadata": {},
   "outputs": [],
   "source": [
    "df.dropna(subset = [\"Date\"],inplace=True)"
   ]
  },
  {
   "cell_type": "code",
   "execution_count": 16,
   "id": "2205835d-2030-477e-9186-d5181c567f7b",
   "metadata": {},
   "outputs": [
    {
     "data": {
      "text/plain": [
       "Duration    0\n",
       "Date        0\n",
       "Pulse       0\n",
       "Maxpulse    0\n",
       "Calories    0\n",
       "dtype: int64"
      ]
     },
     "execution_count": 16,
     "metadata": {},
     "output_type": "execute_result"
    }
   ],
   "source": [
    "df.isnull().sum()"
   ]
  },
  {
   "cell_type": "code",
   "execution_count": 17,
   "id": "52d7e9a4-240e-4450-88e6-ccb6d80ed6ae",
   "metadata": {},
   "outputs": [
    {
     "data": {
      "text/plain": [
       "0     2020/12/01'\n",
       "1     2020/12/02'\n",
       "2     2020/12/03'\n",
       "3     2020/12/04'\n",
       "4     2020/12/05'\n",
       "5     2020/12/06'\n",
       "6     2020/12/07'\n",
       "7     2020/12/08'\n",
       "8     2020/12/09'\n",
       "9     2020/12/10'\n",
       "10    2020/12/11'\n",
       "11    2020/12/12'\n",
       "12    2020/12/12'\n",
       "13    2020/12/13'\n",
       "14    2020/12/14'\n",
       "15    2020/12/15'\n",
       "16    2020/12/16'\n",
       "17    2020/12/17'\n",
       "18    2020/12/18'\n",
       "19    2020/12/19'\n",
       "20    2020/12/20'\n",
       "21    2020/12/21'\n",
       "23    2020/12/23'\n",
       "24    2020/12/24'\n",
       "25    2020/12/25'\n",
       "26       20201226\n",
       "27    2020/12/27'\n",
       "28    2020/12/28'\n",
       "29    2020/12/29'\n",
       "30    2020/12/30'\n",
       "31    2020/12/31'\n",
       "Name: Date, dtype: object"
      ]
     },
     "execution_count": 17,
     "metadata": {},
     "output_type": "execute_result"
    }
   ],
   "source": [
    "df.Date"
   ]
  },
  {
   "cell_type": "code",
   "execution_count": 18,
   "id": "506ccfc5-42b2-4b29-a7ec-8ab424f5775c",
   "metadata": {},
   "outputs": [],
   "source": [
    "df['Date'] = df['Date'].apply(lambda x: x[:-1] if x.endswith(\"'\") else x)"
   ]
  },
  {
   "cell_type": "code",
   "execution_count": 19,
   "id": "1f1e4f7d-f44b-4485-8c66-88dc3c8ac0f0",
   "metadata": {},
   "outputs": [
    {
     "data": {
      "text/plain": [
       "0     2020/12/01\n",
       "1     2020/12/02\n",
       "2     2020/12/03\n",
       "3     2020/12/04\n",
       "4     2020/12/05\n",
       "5     2020/12/06\n",
       "6     2020/12/07\n",
       "7     2020/12/08\n",
       "8     2020/12/09\n",
       "9     2020/12/10\n",
       "10    2020/12/11\n",
       "11    2020/12/12\n",
       "12    2020/12/12\n",
       "13    2020/12/13\n",
       "14    2020/12/14\n",
       "15    2020/12/15\n",
       "16    2020/12/16\n",
       "17    2020/12/17\n",
       "18    2020/12/18\n",
       "19    2020/12/19\n",
       "20    2020/12/20\n",
       "21    2020/12/21\n",
       "23    2020/12/23\n",
       "24    2020/12/24\n",
       "25    2020/12/25\n",
       "26      20201226\n",
       "27    2020/12/27\n",
       "28    2020/12/28\n",
       "29    2020/12/29\n",
       "30    2020/12/30\n",
       "31    2020/12/31\n",
       "Name: Date, dtype: object"
      ]
     },
     "execution_count": 19,
     "metadata": {},
     "output_type": "execute_result"
    }
   ],
   "source": [
    "df['Date']"
   ]
  },
  {
   "cell_type": "code",
   "execution_count": 20,
   "id": "a41f713b-cd8f-45d4-8238-f76e75a5c9e2",
   "metadata": {},
   "outputs": [],
   "source": [
    "df['Date'] = df['Date'].apply(lambda x: x.split(\"/\") if '/' in x else x)"
   ]
  },
  {
   "cell_type": "code",
   "execution_count": 21,
   "id": "dc018161-cd69-4db5-b097-7746a0fafe25",
   "metadata": {},
   "outputs": [],
   "source": [
    "df['Date'] = df['Date'].apply(lambda x: \"\".join(x))"
   ]
  },
  {
   "cell_type": "code",
   "execution_count": 22,
   "id": "0ba2b8a5-ff90-424e-97b0-f3f6df37a9a1",
   "metadata": {},
   "outputs": [
    {
     "data": {
      "text/plain": [
       "0     20201201\n",
       "1     20201202\n",
       "2     20201203\n",
       "3     20201204\n",
       "4     20201205\n",
       "5     20201206\n",
       "6     20201207\n",
       "7     20201208\n",
       "8     20201209\n",
       "9     20201210\n",
       "10    20201211\n",
       "11    20201212\n",
       "12    20201212\n",
       "13    20201213\n",
       "14    20201214\n",
       "15    20201215\n",
       "16    20201216\n",
       "17    20201217\n",
       "18    20201218\n",
       "19    20201219\n",
       "20    20201220\n",
       "21    20201221\n",
       "23    20201223\n",
       "24    20201224\n",
       "25    20201225\n",
       "26    20201226\n",
       "27    20201227\n",
       "28    20201228\n",
       "29    20201229\n",
       "30    20201230\n",
       "31    20201231\n",
       "Name: Date, dtype: object"
      ]
     },
     "execution_count": 22,
     "metadata": {},
     "output_type": "execute_result"
    }
   ],
   "source": [
    "df.Date"
   ]
  },
  {
   "cell_type": "code",
   "execution_count": 23,
   "id": "dfbe35a6-5dde-498c-b5fb-f83e732c51fe",
   "metadata": {},
   "outputs": [],
   "source": [
    "df['Date'] = pd.to_datetime(df['Date'])"
   ]
  },
  {
   "cell_type": "code",
   "execution_count": 24,
   "id": "cb1f2353-48a1-4272-b2b0-f288295ad1f7",
   "metadata": {},
   "outputs": [
    {
     "data": {
      "text/plain": [
       "dtype('<M8[ns]')"
      ]
     },
     "execution_count": 24,
     "metadata": {},
     "output_type": "execute_result"
    }
   ],
   "source": [
    "df.Date.dtype"
   ]
  },
  {
   "cell_type": "code",
   "execution_count": 25,
   "id": "e176d85c-a7bd-40a7-afd6-be5d89a9f519",
   "metadata": {},
   "outputs": [
    {
     "data": {
      "text/plain": [
       "30"
      ]
     },
     "execution_count": 25,
     "metadata": {},
     "output_type": "execute_result"
    }
   ],
   "source": [
    "df.Duration.min()"
   ]
  },
  {
   "cell_type": "code",
   "execution_count": 26,
   "id": "5fa3ac53-3771-4e62-8a87-3ac5f76c71d3",
   "metadata": {},
   "outputs": [
    {
     "data": {
      "text/plain": [
       "450"
      ]
     },
     "execution_count": 26,
     "metadata": {},
     "output_type": "execute_result"
    }
   ],
   "source": [
    "df.Duration.max()"
   ]
  },
  {
   "cell_type": "code",
   "execution_count": 27,
   "id": "58bb84ae-5329-43ce-bb32-9400bc7821b3",
   "metadata": {},
   "outputs": [
    {
     "data": {
      "text/plain": [
       "0    60\n",
       "Name: Duration, dtype: int64"
      ]
     },
     "execution_count": 27,
     "metadata": {},
     "output_type": "execute_result"
    }
   ],
   "source": [
    "df.Duration.mode()"
   ]
  },
  {
   "cell_type": "code",
   "execution_count": 32,
   "id": "0f8b7af9-1d07-476a-a4b7-1afaa0f999fb",
   "metadata": {},
   "outputs": [],
   "source": [
    "a = df[df['Duration'] > 60]"
   ]
  },
  {
   "cell_type": "code",
   "execution_count": 33,
   "id": "b5d6c975-ead0-4b7f-bf8a-f83cb0fdd99d",
   "metadata": {},
   "outputs": [
    {
     "data": {
      "text/html": [
       "<div>\n",
       "<style scoped>\n",
       "    .dataframe tbody tr th:only-of-type {\n",
       "        vertical-align: middle;\n",
       "    }\n",
       "\n",
       "    .dataframe tbody tr th {\n",
       "        vertical-align: top;\n",
       "    }\n",
       "\n",
       "    .dataframe thead th {\n",
       "        text-align: right;\n",
       "    }\n",
       "</style>\n",
       "<table border=\"1\" class=\"dataframe\">\n",
       "  <thead>\n",
       "    <tr style=\"text-align: right;\">\n",
       "      <th></th>\n",
       "      <th>Duration</th>\n",
       "      <th>Date</th>\n",
       "      <th>Pulse</th>\n",
       "      <th>Maxpulse</th>\n",
       "      <th>Calories</th>\n",
       "    </tr>\n",
       "  </thead>\n",
       "  <tbody>\n",
       "    <tr>\n",
       "      <th>7</th>\n",
       "      <td>450</td>\n",
       "      <td>2020-12-08</td>\n",
       "      <td>104</td>\n",
       "      <td>134</td>\n",
       "      <td>253.3</td>\n",
       "    </tr>\n",
       "  </tbody>\n",
       "</table>\n",
       "</div>"
      ],
      "text/plain": [
       "   Duration       Date  Pulse  Maxpulse  Calories\n",
       "7       450 2020-12-08    104       134     253.3"
      ]
     },
     "execution_count": 33,
     "metadata": {},
     "output_type": "execute_result"
    }
   ],
   "source": [
    "a"
   ]
  },
  {
   "cell_type": "code",
   "execution_count": 34,
   "id": "72d8131b-2460-419b-8fce-ecdad82ea2a1",
   "metadata": {},
   "outputs": [],
   "source": [
    "df['Duration'] = df['Duration'].apply(lambda x: 60 if x>100 else x )"
   ]
  },
  {
   "cell_type": "code",
   "execution_count": 36,
   "id": "807a7d2f-89d7-4552-9fd7-2b741831912a",
   "metadata": {},
   "outputs": [
    {
     "data": {
      "text/html": [
       "<div>\n",
       "<style scoped>\n",
       "    .dataframe tbody tr th:only-of-type {\n",
       "        vertical-align: middle;\n",
       "    }\n",
       "\n",
       "    .dataframe tbody tr th {\n",
       "        vertical-align: top;\n",
       "    }\n",
       "\n",
       "    .dataframe thead th {\n",
       "        text-align: right;\n",
       "    }\n",
       "</style>\n",
       "<table border=\"1\" class=\"dataframe\">\n",
       "  <thead>\n",
       "    <tr style=\"text-align: right;\">\n",
       "      <th></th>\n",
       "      <th>Duration</th>\n",
       "      <th>Date</th>\n",
       "      <th>Pulse</th>\n",
       "      <th>Maxpulse</th>\n",
       "      <th>Calories</th>\n",
       "    </tr>\n",
       "  </thead>\n",
       "  <tbody>\n",
       "  </tbody>\n",
       "</table>\n",
       "</div>"
      ],
      "text/plain": [
       "Empty DataFrame\n",
       "Columns: [Duration, Date, Pulse, Maxpulse, Calories]\n",
       "Index: []"
      ]
     },
     "execution_count": 36,
     "metadata": {},
     "output_type": "execute_result"
    }
   ],
   "source": [
    "df[df['Duration']>60]"
   ]
  },
  {
   "cell_type": "code",
   "execution_count": 39,
   "id": "dd615568-ba40-4718-8fce-13146685e9f6",
   "metadata": {},
   "outputs": [
    {
     "data": {
      "text/plain": [
       "dtype('float64')"
      ]
     },
     "execution_count": 39,
     "metadata": {},
     "output_type": "execute_result"
    }
   ],
   "source": [
    "df.Calories.dtype"
   ]
  },
  {
   "cell_type": "code",
   "execution_count": 40,
   "id": "3746292e-5dbf-4925-a711-0202e3fd006b",
   "metadata": {},
   "outputs": [
    {
     "data": {
      "text/plain": [
       "1"
      ]
     },
     "execution_count": 40,
     "metadata": {},
     "output_type": "execute_result"
    }
   ],
   "source": [
    "df.duplicated().sum()"
   ]
  },
  {
   "cell_type": "code",
   "execution_count": 42,
   "id": "eeed39d7-3ec6-4380-bf1a-cbcaa66d86ea",
   "metadata": {},
   "outputs": [],
   "source": [
    "df.drop_duplicates(inplace = True)"
   ]
  },
  {
   "cell_type": "code",
   "execution_count": 43,
   "id": "eaede13e-d4da-4a17-836a-c6b3fa5dee4d",
   "metadata": {},
   "outputs": [
    {
     "data": {
      "image/png": "[encoded data removed]",
      "text/plain": [
       "<Figure size 500x500 with 1 Axes>"
      ]
     },
     "metadata": {},
     "output_type": "display_data"
    },
    {
     "data": {
      "image/png": "[encoded data removed]",
      "text/plain": [
       "<Figure size 500x500 with 1 Axes>"
      ]
     },
     "metadata": {},
     "output_type": "display_data"
    },
    {
     "data": {
      "image/png": "[encoded data removed]",
      "text/plain": [
       "<Figure size 500x500 with 1 Axes>"
      ]
     },
     "metadata": {},
     "output_type": "display_data"
    },
    {
     "data": {
      "image/png": "[encoded data removed]",
      "text/plain": [
       "<Figure size 500x500 with 1 Axes>"
      ]
     },
     "metadata": {},
     "output_type": "display_data"
    },
    {
     "data": {
      "image/png": "[encoded data removed]",
      "text/plain": [
       "<Figure size 500x500 with 1 Axes>"
      ]
     },
     "metadata": {},
     "output_type": "display_data"
    }
   ],
   "source": [
    "for feat in df.columns:\n",
    "    sns.displot(df[feat])"
   ]
  },
  {
   "cell_type": "code",
   "execution_count": 49,
   "id": "edd74554-b84f-4d42-a415-c95014a32c3a",
   "metadata": {},
   "outputs": [],
   "source": [
    "from sklearn.preprocessing import StandardScaler\n",
    "stdscaler = StandardScaler()\n"
   ]
  },
  {
   "cell_type": "code",
   "execution_count": 51,
   "id": "1e8d6cd8-b5f1-4b92-8563-49df6e5edc6e",
   "metadata": {},
   "outputs": [],
   "source": [
    "df2 = df.drop(columns='Date')"
   ]
  },
  {
   "cell_type": "code",
   "execution_count": 56,
   "id": "9d40c797-78f6-4f7f-8265-9408d1acd1f0",
   "metadata": {},
   "outputs": [
    {
     "data": {
      "text/plain": [
       "array([[ 0.47087096,  0.79249447,  0.06926698,  1.58971548],\n",
       "       [ 0.47087096,  1.67772765,  1.22371671,  2.67831991],\n",
       "       [ 0.47087096, -0.09273871,  0.45408356,  0.51357004],\n",
       "       [-1.54714743,  0.66603258,  3.53261615, -0.38347739],\n",
       "       [-1.54714743,  1.67772765,  1.45460665,  1.54143688],\n",
       "       [ 0.47087096, -0.2192006 , -0.16162296, -0.10937957],\n",
       "       [ 0.47087096,  0.79249447,  0.53104687,  1.0430772 ],\n",
       "       [ 0.47087096,  0.03372317,  0.37712024, -0.83667323],\n",
       "       [-3.56516581,  0.66603258,  0.30015693, -1.7430649 ],\n",
       "       [ 0.47087096, -0.72504813, -0.39251291, -0.59216551],\n",
       "       [ 0.47087096, -0.09273871,  1.37764334,  0.34693102],\n",
       "       [ 0.47087096, -0.47212436, -0.70036616, -0.87716495],\n",
       "       [ 0.47087096,  0.28664693, -0.08465965,  0.59611086],\n",
       "       [ 0.47087096,  0.03372317,  0.22319361,  1.12561802],\n",
       "       [ 0.47087096, -0.72504813, -0.46947622, -0.49872307],\n",
       "       [ 0.47087096, -0.72504813, -0.70036616, -1.43003273],\n",
       "       [ 0.47087096, -0.47212436, -0.70036616, -0.10937957],\n",
       "       [-1.54714743, -1.73674319, -1.31607268,  0.24881645],\n",
       "       [ 0.47087096, -0.09273871, -0.46947622,  0.24881645],\n",
       "       [-1.54714743, -0.85151001, -0.31554959, -0.99708275],\n",
       "       [ 0.47087096,  0.5395707 ,  0.1462303 ,  0.89045455],\n",
       "       [ 0.47087096,  3.32173213, -2.16266915, -0.10937957],\n",
       "       [-1.54714743,  0.16018505,  0.22319361, -0.95036153],\n",
       "       [ 0.47087096, -0.2192006 , -0.23858628,  0.42791447],\n",
       "       [ 0.47087096, -0.47212436, -0.70036616, -0.88806657],\n",
       "       [ 0.47087096, -1.48381943, -0.85429279, -1.02823023],\n",
       "       [ 0.47087096, -0.09273871,  0.22319361, -0.42085437],\n",
       "       [ 0.47087096, -0.47212436,  0.22319361, -0.42085437],\n",
       "       [ 0.47087096, -0.2192006 , -0.00769633,  1.14119176],\n",
       "       [ 0.47087096, -1.48381943, -1.08518274, -0.99708275]])"
      ]
     },
     "execution_count": 56,
     "metadata": {},
     "output_type": "execute_result"
    }
   ],
   "source": [
    "stdscaler.fit_transform(df2)"
   ]
  },
  {
   "cell_type": "code",
   "execution_count": null,
   "id": "f9da88c2-c38f-45d3-bb24-767464798644",
   "metadata": {},
   "outputs": [],
   "source": []
  },
  {
   "cell_type": "code",
   "execution_count": null,
   "id": "d9b9ac47-6acf-49a3-8935-1ac2fdb21ec9",
   "metadata": {},
   "outputs": [],
   "source": []
  }
 ],
 "metadata": {
  "kernelspec": {
   "display_name": "Python 3 (ipykernel)",
   "language": "python",
   "name": "python3"
  },
  "language_info": {
   "codemirror_mode": {
    "name": "ipython",
    "version": 3
   },
   "file_extension": ".py",
   "mimetype": "text/x-python",
   "name": "python",
   "nbconvert_exporter": "python",
   "pygments_lexer": "ipython3",
   "version": "3.10.4"
  }
 },
 "nbformat": 4,
 "nbformat_minor": 5
}
