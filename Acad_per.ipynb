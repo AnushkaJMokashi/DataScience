{
 "cells": [
  {
   "cell_type": "markdown",
   "id": "c3b96135-7a44-4b9a-ad79-5ead5e29cd9e",
   "metadata": {},
   "source": [
    "Consider the “Academic performance” dataset of students (Academic_Performance_Dataset.csv) and perform the \n",
    "following operations using Python. \n",
    "a) Scan all variables for missing values and inconsistencies. If there are missing values and/or inconsistencies, use any \n",
    "of the suitable techniques to deal with them. \n",
    "b) Scan all numeric variables for outliers. If there are outliers, use any of the suitable techniques to deal with them. \n",
    "c) Apply data transformations on categorical variables to convert it into numerical variables. \n",
    "Reason and document your approach properly. "
   ]
  },
  {
   "cell_type": "code",
   "execution_count": 1,
   "id": "05fc64eb-5627-4bef-b897-dc946924b4d3",
   "metadata": {},
   "outputs": [],
   "source": [
    "import pandas as pd\n",
    "import numpy as np\n",
    "import seaborn as sns\n",
    "import matplotlib.pyplot as plt\n",
    "%matplotlib inline"
   ]
  },
  {
   "cell_type": "code",
   "execution_count": 2,
   "id": "de604542-1de8-4ffd-ab4b-86a5050cf149",
   "metadata": {},
   "outputs": [
    {
     "data": {
      "text/html": [
       "<div>\n",
       "<style scoped>\n",
       "    .dataframe tbody tr th:only-of-type {\n",
       "        vertical-align: middle;\n",
       "    }\n",
       "\n",
       "    .dataframe tbody tr th {\n",
       "        vertical-align: top;\n",
       "    }\n",
       "\n",
       "    .dataframe thead th {\n",
       "        text-align: right;\n",
       "    }\n",
       "</style>\n",
       "<table border=\"1\" class=\"dataframe\">\n",
       "  <thead>\n",
       "    <tr style=\"text-align: right;\">\n",
       "      <th></th>\n",
       "      <th>STUDENT_ID</th>\n",
       "      <th>GENDER</th>\n",
       "      <th>PLACEMENT</th>\n",
       "      <th>HONOR_OPTED_OR_NOT</th>\n",
       "      <th>EDUCATION_TYPE</th>\n",
       "      <th>ACADEMIC_PROGRAM</th>\n",
       "      <th>COURSE 1 MARKS</th>\n",
       "      <th>COURSE 2 MARKS</th>\n",
       "      <th>COURSE 3 MARKS</th>\n",
       "      <th>COURSE 4 MARKS</th>\n",
       "      <th>COURSE 5 MARKS</th>\n",
       "      <th>PERCENTILE</th>\n",
       "      <th>OVEARLL_GRADE</th>\n",
       "    </tr>\n",
       "  </thead>\n",
       "  <tbody>\n",
       "    <tr>\n",
       "      <th>0</th>\n",
       "      <td>SB11201210000129</td>\n",
       "      <td>F</td>\n",
       "      <td>Yes</td>\n",
       "      <td>Yes</td>\n",
       "      <td>ACADEMIC</td>\n",
       "      <td>INDUSTRIAL ENGINEERING</td>\n",
       "      <td>71.0</td>\n",
       "      <td>93.0</td>\n",
       "      <td>71.0</td>\n",
       "      <td>93.0</td>\n",
       "      <td>79.0</td>\n",
       "      <td>91</td>\n",
       "      <td>FIRST CLASS</td>\n",
       "    </tr>\n",
       "    <tr>\n",
       "      <th>1</th>\n",
       "      <td>SB11201210000137</td>\n",
       "      <td>F</td>\n",
       "      <td>Yes</td>\n",
       "      <td>Yes</td>\n",
       "      <td>ACADEMIC</td>\n",
       "      <td>INDUSTRIAL ENGINEERING</td>\n",
       "      <td>97.0</td>\n",
       "      <td>38.0</td>\n",
       "      <td>86.0</td>\n",
       "      <td>98.0</td>\n",
       "      <td>78.0</td>\n",
       "      <td>92</td>\n",
       "      <td>THIRD CLASS</td>\n",
       "    </tr>\n",
       "    <tr>\n",
       "      <th>2</th>\n",
       "      <td>SB11201210005154</td>\n",
       "      <td>M</td>\n",
       "      <td>No</td>\n",
       "      <td>Yes</td>\n",
       "      <td>ACADEMIC</td>\n",
       "      <td>ELECTRONIC ENGINEERING</td>\n",
       "      <td>17.0</td>\n",
       "      <td>1.0</td>\n",
       "      <td>18.0</td>\n",
       "      <td>43.0</td>\n",
       "      <td>22.0</td>\n",
       "      <td>7</td>\n",
       "      <td>DISTINCTION</td>\n",
       "    </tr>\n",
       "    <tr>\n",
       "      <th>3</th>\n",
       "      <td>SB11201210007504</td>\n",
       "      <td>F</td>\n",
       "      <td>Yes</td>\n",
       "      <td>Yes</td>\n",
       "      <td>ACADEMIC</td>\n",
       "      <td>INDUSTRIAL ENGINEERING</td>\n",
       "      <td>65.0</td>\n",
       "      <td>35.0</td>\n",
       "      <td>76.0</td>\n",
       "      <td>80.0</td>\n",
       "      <td>48.0</td>\n",
       "      <td>67</td>\n",
       "      <td>FIRST CLASS</td>\n",
       "    </tr>\n",
       "    <tr>\n",
       "      <th>4</th>\n",
       "      <td>SB11201210007548</td>\n",
       "      <td>M</td>\n",
       "      <td>Yes</td>\n",
       "      <td>Yes</td>\n",
       "      <td>ACADEMIC</td>\n",
       "      <td>INDUSTRIAL ENGINEERING</td>\n",
       "      <td>94.0</td>\n",
       "      <td>94.0</td>\n",
       "      <td>98.0</td>\n",
       "      <td>100.0</td>\n",
       "      <td>71.0</td>\n",
       "      <td>98</td>\n",
       "      <td>FIRST CLASS</td>\n",
       "    </tr>\n",
       "    <tr>\n",
       "      <th>...</th>\n",
       "      <td>...</td>\n",
       "      <td>...</td>\n",
       "      <td>...</td>\n",
       "      <td>...</td>\n",
       "      <td>...</td>\n",
       "      <td>...</td>\n",
       "      <td>...</td>\n",
       "      <td>...</td>\n",
       "      <td>...</td>\n",
       "      <td>...</td>\n",
       "      <td>...</td>\n",
       "      <td>...</td>\n",
       "      <td>...</td>\n",
       "    </tr>\n",
       "    <tr>\n",
       "      <th>12406</th>\n",
       "      <td>SB11201420568705</td>\n",
       "      <td>M</td>\n",
       "      <td>Yes</td>\n",
       "      <td>Yes</td>\n",
       "      <td>ACADEMIC</td>\n",
       "      <td>MECHATRONICS ENGINEERING</td>\n",
       "      <td>88.0</td>\n",
       "      <td>71.0</td>\n",
       "      <td>86.0</td>\n",
       "      <td>87.0</td>\n",
       "      <td>65.0</td>\n",
       "      <td>88</td>\n",
       "      <td>FIRST CLASS</td>\n",
       "    </tr>\n",
       "    <tr>\n",
       "      <th>12407</th>\n",
       "      <td>SB11201420573045</td>\n",
       "      <td>M</td>\n",
       "      <td>Yes</td>\n",
       "      <td>Yes</td>\n",
       "      <td>ACADEMIC</td>\n",
       "      <td>INDUSTRIAL ENGINEERING</td>\n",
       "      <td>46.0</td>\n",
       "      <td>39.0</td>\n",
       "      <td>44.0</td>\n",
       "      <td>11.0</td>\n",
       "      <td>0.0</td>\n",
       "      <td>4</td>\n",
       "      <td>FIRST CLASS</td>\n",
       "    </tr>\n",
       "    <tr>\n",
       "      <th>12408</th>\n",
       "      <td>SB11201420578809</td>\n",
       "      <td>M</td>\n",
       "      <td>Yes</td>\n",
       "      <td>No</td>\n",
       "      <td>ACADEMIC</td>\n",
       "      <td>INDUSTRIAL ENGINEERING</td>\n",
       "      <td>98.0</td>\n",
       "      <td>88.0</td>\n",
       "      <td>90.0</td>\n",
       "      <td>81.0</td>\n",
       "      <td>87.0</td>\n",
       "      <td>95</td>\n",
       "      <td>FIRST CLASS</td>\n",
       "    </tr>\n",
       "    <tr>\n",
       "      <th>12409</th>\n",
       "      <td>SB11201420578812</td>\n",
       "      <td>F</td>\n",
       "      <td>Yes</td>\n",
       "      <td>Yes</td>\n",
       "      <td>ACADEMIC</td>\n",
       "      <td>NaN</td>\n",
       "      <td>60.0</td>\n",
       "      <td>80.0</td>\n",
       "      <td>51.0</td>\n",
       "      <td>8.0</td>\n",
       "      <td>42.0</td>\n",
       "      <td>50</td>\n",
       "      <td>FIRST CLASS</td>\n",
       "    </tr>\n",
       "    <tr>\n",
       "      <th>12410</th>\n",
       "      <td>SB11201420583232</td>\n",
       "      <td>M</td>\n",
       "      <td>No</td>\n",
       "      <td>No</td>\n",
       "      <td>ACADEMIC</td>\n",
       "      <td>INDUSTRIAL ENGINEERING</td>\n",
       "      <td>83.0</td>\n",
       "      <td>95.0</td>\n",
       "      <td>91.0</td>\n",
       "      <td>79.0</td>\n",
       "      <td>47.0</td>\n",
       "      <td>89</td>\n",
       "      <td>THIRD CLASS</td>\n",
       "    </tr>\n",
       "  </tbody>\n",
       "</table>\n",
       "<p>12411 rows × 13 columns</p>\n",
       "</div>"
      ],
      "text/plain": [
       "             STUDENT_ID GENDER PLACEMENT HONOR_OPTED_OR_NOT EDUCATION_TYPE   \n",
       "0      SB11201210000129      F       Yes                Yes       ACADEMIC  \\\n",
       "1      SB11201210000137      F       Yes                Yes       ACADEMIC   \n",
       "2      SB11201210005154      M        No                Yes       ACADEMIC   \n",
       "3      SB11201210007504      F       Yes                Yes       ACADEMIC   \n",
       "4      SB11201210007548      M       Yes                Yes       ACADEMIC   \n",
       "...                 ...    ...       ...                ...            ...   \n",
       "12406  SB11201420568705      M       Yes                Yes       ACADEMIC   \n",
       "12407  SB11201420573045      M       Yes                Yes       ACADEMIC   \n",
       "12408  SB11201420578809      M       Yes                 No       ACADEMIC   \n",
       "12409  SB11201420578812      F       Yes                Yes       ACADEMIC   \n",
       "12410  SB11201420583232      M        No                 No       ACADEMIC   \n",
       "\n",
       "               ACADEMIC_PROGRAM  COURSE 1 MARKS  COURSE 2 MARKS   \n",
       "0        INDUSTRIAL ENGINEERING            71.0            93.0  \\\n",
       "1        INDUSTRIAL ENGINEERING            97.0            38.0   \n",
       "2        ELECTRONIC ENGINEERING            17.0             1.0   \n",
       "3        INDUSTRIAL ENGINEERING            65.0            35.0   \n",
       "4        INDUSTRIAL ENGINEERING            94.0            94.0   \n",
       "...                         ...             ...             ...   \n",
       "12406  MECHATRONICS ENGINEERING            88.0            71.0   \n",
       "12407    INDUSTRIAL ENGINEERING            46.0            39.0   \n",
       "12408    INDUSTRIAL ENGINEERING            98.0            88.0   \n",
       "12409                       NaN            60.0            80.0   \n",
       "12410    INDUSTRIAL ENGINEERING            83.0            95.0   \n",
       "\n",
       "       COURSE 3 MARKS  COURSE 4 MARKS  COURSE 5 MARKS  PERCENTILE   \n",
       "0                71.0            93.0            79.0          91  \\\n",
       "1                86.0            98.0            78.0          92   \n",
       "2                18.0            43.0            22.0           7   \n",
       "3                76.0            80.0            48.0          67   \n",
       "4                98.0           100.0            71.0          98   \n",
       "...               ...             ...             ...         ...   \n",
       "12406            86.0            87.0            65.0          88   \n",
       "12407            44.0            11.0             0.0           4   \n",
       "12408            90.0            81.0            87.0          95   \n",
       "12409            51.0             8.0            42.0          50   \n",
       "12410            91.0            79.0            47.0          89   \n",
       "\n",
       "      OVEARLL_GRADE  \n",
       "0       FIRST CLASS  \n",
       "1       THIRD CLASS  \n",
       "2       DISTINCTION  \n",
       "3       FIRST CLASS  \n",
       "4       FIRST CLASS  \n",
       "...             ...  \n",
       "12406   FIRST CLASS  \n",
       "12407   FIRST CLASS  \n",
       "12408   FIRST CLASS  \n",
       "12409   FIRST CLASS  \n",
       "12410   THIRD CLASS  \n",
       "\n",
       "[12411 rows x 13 columns]"
      ]
     },
     "execution_count": 2,
     "metadata": {},
     "output_type": "execute_result"
    }
   ],
   "source": [
    "df = pd.read_csv('Academic_Performance.csv')\n",
    "df"
   ]
  },
  {
   "cell_type": "code",
   "execution_count": 3,
   "id": "8c2b0079-e873-413a-a7db-d8dece9bb902",
   "metadata": {},
   "outputs": [
    {
     "name": "stdout",
     "output_type": "stream",
     "text": [
      "<class 'pandas.core.frame.DataFrame'>\n",
      "RangeIndex: 12411 entries, 0 to 12410\n",
      "Data columns (total 13 columns):\n",
      " #   Column              Non-Null Count  Dtype  \n",
      "---  ------              --------------  -----  \n",
      " 0   STUDENT_ID          12411 non-null  object \n",
      " 1   GENDER              12389 non-null  object \n",
      " 2   PLACEMENT           12396 non-null  object \n",
      " 3   HONOR_OPTED_OR_NOT  12397 non-null  object \n",
      " 4   EDUCATION_TYPE      12396 non-null  object \n",
      " 5   ACADEMIC_PROGRAM    12377 non-null  object \n",
      " 6   COURSE 1 MARKS      12400 non-null  float64\n",
      " 7   COURSE 2 MARKS      12403 non-null  float64\n",
      " 8   COURSE 3 MARKS      12397 non-null  float64\n",
      " 9   COURSE 4 MARKS      12397 non-null  float64\n",
      " 10  COURSE 5 MARKS      12389 non-null  float64\n",
      " 11  PERCENTILE          12411 non-null  int64  \n",
      " 12  OVEARLL_GRADE       12411 non-null  object \n",
      "dtypes: float64(5), int64(1), object(7)\n",
      "memory usage: 1.2+ MB\n"
     ]
    }
   ],
   "source": [
    "df.info()"
   ]
  },
  {
   "cell_type": "code",
   "execution_count": 4,
   "id": "44a25769-36a3-4c84-ae05-cb299537c955",
   "metadata": {},
   "outputs": [
    {
     "data": {
      "text/plain": [
       "STUDENT_ID             0\n",
       "GENDER                22\n",
       "PLACEMENT             15\n",
       "HONOR_OPTED_OR_NOT    14\n",
       "EDUCATION_TYPE        15\n",
       "ACADEMIC_PROGRAM      34\n",
       "COURSE 1 MARKS        11\n",
       "COURSE 2 MARKS         8\n",
       "COURSE 3 MARKS        14\n",
       "COURSE 4 MARKS        14\n",
       "COURSE 5 MARKS        22\n",
       "PERCENTILE             0\n",
       "OVEARLL_GRADE          0\n",
       "dtype: int64"
      ]
     },
     "execution_count": 4,
     "metadata": {},
     "output_type": "execute_result"
    }
   ],
   "source": [
    "df.isnull().sum()"
   ]
  },
  {
   "cell_type": "markdown",
   "id": "5a187986-9a60-4eb6-9e79-8d695a1614b4",
   "metadata": {},
   "source": [
    "## Handling Null Values"
   ]
  },
  {
   "cell_type": "markdown",
   "id": "58398909-1e64-4a38-9229-f3e872ddef20",
   "metadata": {},
   "source": [
    "#### GENDER"
   ]
  },
  {
   "cell_type": "code",
   "execution_count": 5,
   "id": "954f35cc-f45b-43ec-9874-726e5013eaf9",
   "metadata": {},
   "outputs": [],
   "source": [
    "data = df.copy()\n",
    "data[\"GENDER\"].fillna(\"Not Mentioned\",inplace = True)"
   ]
  },
  {
   "cell_type": "code",
   "execution_count": 6,
   "id": "bf08e57b-b2a1-4a4f-a1f2-b28daef49276",
   "metadata": {},
   "outputs": [
    {
     "data": {
      "text/plain": [
       "0"
      ]
     },
     "execution_count": 6,
     "metadata": {},
     "output_type": "execute_result"
    }
   ],
   "source": [
    "data[\"GENDER\"].isnull().sum()"
   ]
  },
  {
   "cell_type": "markdown",
   "id": "06e2d6c0-3331-4ba6-ba51-a2823d4b7c78",
   "metadata": {},
   "source": [
    "#### PLACEMENT"
   ]
  },
  {
   "cell_type": "code",
   "execution_count": 7,
   "id": "c34a6c20-2e38-4381-a538-eb7a0612741f",
   "metadata": {},
   "outputs": [],
   "source": [
    "data[\"PLACEMENT\"].fillna(\"Not Mentioned\",inplace=True)"
   ]
  },
  {
   "cell_type": "code",
   "execution_count": 8,
   "id": "84fa2e2c-190a-4e39-b44d-9c58e31b120c",
   "metadata": {},
   "outputs": [
    {
     "data": {
      "text/plain": [
       "0"
      ]
     },
     "execution_count": 8,
     "metadata": {},
     "output_type": "execute_result"
    }
   ],
   "source": [
    "data[\"PLACEMENT\"].isnull().sum()"
   ]
  },
  {
   "cell_type": "code",
   "execution_count": 9,
   "id": "d7633e84-8844-4155-8c28-94f707173b2a",
   "metadata": {},
   "outputs": [],
   "source": [
    "data2 = df.copy()"
   ]
  },
  {
   "cell_type": "code",
   "execution_count": 10,
   "id": "093118f7-e772-461a-b5f6-be5c76cae8f2",
   "metadata": {},
   "outputs": [],
   "source": [
    "data2[\"GENDER\"].fillna(df[\"GENDER\"].mode()[0],inplace=True)"
   ]
  },
  {
   "cell_type": "code",
   "execution_count": 11,
   "id": "52409be5-47b1-45c4-9e1d-910af328f88d",
   "metadata": {},
   "outputs": [
    {
     "data": {
      "text/plain": [
       "0"
      ]
     },
     "execution_count": 11,
     "metadata": {},
     "output_type": "execute_result"
    }
   ],
   "source": [
    "data2[\"GENDER\"].isnull().sum()"
   ]
  },
  {
   "cell_type": "code",
   "execution_count": 12,
   "id": "c5e1d252-d16a-4589-ac8b-d190e6a3d459",
   "metadata": {},
   "outputs": [],
   "source": [
    "## Also for nyumeriacal:"
   ]
  },
  {
   "cell_type": "code",
   "execution_count": 13,
   "id": "010565b4-eef8-40c9-851e-2f6b5d8615a3",
   "metadata": {},
   "outputs": [],
   "source": [
    "data3 = data2.copy()"
   ]
  },
  {
   "cell_type": "code",
   "execution_count": 14,
   "id": "2b81c203-51d9-479c-8758-b8ed95daccaa",
   "metadata": {},
   "outputs": [],
   "source": [
    "data3[\"COURSE 1 MARKS\"].fillna(df[\"COURSE 1 MARKS\"].mean(),inplace = True)"
   ]
  },
  {
   "cell_type": "code",
   "execution_count": 15,
   "id": "a4cfad98-ccc9-4884-b0b4-3e152861db5d",
   "metadata": {},
   "outputs": [
    {
     "data": {
      "text/plain": [
       "0"
      ]
     },
     "execution_count": 15,
     "metadata": {},
     "output_type": "execute_result"
    }
   ],
   "source": [
    "data3[\"COURSE 1 MARKS\"].isnull().sum()"
   ]
  },
  {
   "cell_type": "code",
   "execution_count": 16,
   "id": "858ad44c-bce5-4844-abe0-d731c3df6dc9",
   "metadata": {},
   "outputs": [],
   "source": [
    "## INstead of working on each column separately we can have one single function"
   ]
  },
  {
   "cell_type": "code",
   "execution_count": 17,
   "id": "ae68f86b-36e2-48ea-a046-a7d12be5af59",
   "metadata": {},
   "outputs": [
    {
     "name": "stdout",
     "output_type": "stream",
     "text": [
      "Handled null values\n",
      "Null values ->\n",
      "STUDENT_ID            0\n",
      "GENDER                0\n",
      "PLACEMENT             0\n",
      "HONOR_OPTED_OR_NOT    0\n",
      "EDUCATION_TYPE        0\n",
      "ACADEMIC_PROGRAM      0\n",
      "COURSE 1 MARKS        0\n",
      "COURSE 2 MARKS        0\n",
      "COURSE 3 MARKS        0\n",
      "COURSE 4 MARKS        0\n",
      "COURSE 5 MARKS        0\n",
      "PERCENTILE            0\n",
      "OVEARLL_GRADE         0\n",
      "dtype: int64\n"
     ]
    }
   ],
   "source": [
    "def handlenull(df):\n",
    "    for col in df.columns:\n",
    "        if df[col].isnull().sum() >0:\n",
    "            if df[col].dtype == 'O':\n",
    "                df[col].fillna(df[col].mode(0)[0],inplace = True)\n",
    "            elif df[col].dtype !='O':\n",
    "                df[col].fillna(df[col].mean(),inplace=True)\n",
    "    print(\"Handled null values\")\n",
    "    print(\"Null values ->\")\n",
    "    print(df.isnull().sum())\n",
    "\n",
    "handlenull(df)"
   ]
  },
  {
   "cell_type": "markdown",
   "id": "a3612139-4e06-499f-8f52-70ebeccbe981",
   "metadata": {},
   "source": [
    "## Drop column if not necessary"
   ]
  },
  {
   "cell_type": "code",
   "execution_count": 18,
   "id": "39432e0f-a258-4021-94d4-41049a278250",
   "metadata": {},
   "outputs": [],
   "source": [
    "df.drop(\"STUDENT_ID\",axis=1,inplace = True)"
   ]
  },
  {
   "cell_type": "code",
   "execution_count": 19,
   "id": "2f23c9de-a1c7-4608-b1b8-8e849311fa49",
   "metadata": {},
   "outputs": [
    {
     "data": {
      "text/plain": [
       "Index(['GENDER', 'PLACEMENT', 'HONOR_OPTED_OR_NOT', 'EDUCATION_TYPE',\n",
       "       'ACADEMIC_PROGRAM', 'COURSE 1 MARKS', 'COURSE 2 MARKS',\n",
       "       'COURSE 3 MARKS', 'COURSE 4 MARKS', 'COURSE 5 MARKS', 'PERCENTILE',\n",
       "       'OVEARLL_GRADE'],\n",
       "      dtype='object')"
      ]
     },
     "execution_count": 19,
     "metadata": {},
     "output_type": "execute_result"
    }
   ],
   "source": [
    "df.columns"
   ]
  },
  {
   "cell_type": "code",
   "execution_count": 20,
   "id": "abe0e1bf-da64-433b-b39d-319b1e31b284",
   "metadata": {},
   "outputs": [
    {
     "data": {
      "text/plain": [
       "dtype('float64')"
      ]
     },
     "execution_count": 20,
     "metadata": {},
     "output_type": "execute_result"
    }
   ],
   "source": [
    "df[\"COURSE 1 MARKS\"].dtype"
   ]
  },
  {
   "cell_type": "code",
   "execution_count": 21,
   "id": "191f88dd-6d88-46f0-9410-caab169b4022",
   "metadata": {},
   "outputs": [
    {
     "name": "stdout",
     "output_type": "stream",
     "text": [
      "Successfull\n"
     ]
    }
   ],
   "source": [
    "def replaceFloat(df):\n",
    "    for col in df.columns:\n",
    "        if df[col].dtype == 'float64':\n",
    "            df[col] = df[col].astype(int)\n",
    "    print(\"Successfull\")\n",
    "\n",
    "replaceFloat(df)"
   ]
  },
  {
   "cell_type": "code",
   "execution_count": 22,
   "id": "dd13650f-6566-4237-b1f0-b2c188aacd1b",
   "metadata": {},
   "outputs": [
    {
     "name": "stdout",
     "output_type": "stream",
     "text": [
      "<class 'pandas.core.frame.DataFrame'>\n",
      "RangeIndex: 12411 entries, 0 to 12410\n",
      "Data columns (total 12 columns):\n",
      " #   Column              Non-Null Count  Dtype \n",
      "---  ------              --------------  ----- \n",
      " 0   GENDER              12411 non-null  object\n",
      " 1   PLACEMENT           12411 non-null  object\n",
      " 2   HONOR_OPTED_OR_NOT  12411 non-null  object\n",
      " 3   EDUCATION_TYPE      12411 non-null  object\n",
      " 4   ACADEMIC_PROGRAM    12411 non-null  object\n",
      " 5   COURSE 1 MARKS      12411 non-null  int32 \n",
      " 6   COURSE 2 MARKS      12411 non-null  int32 \n",
      " 7   COURSE 3 MARKS      12411 non-null  int32 \n",
      " 8   COURSE 4 MARKS      12411 non-null  int32 \n",
      " 9   COURSE 5 MARKS      12411 non-null  int32 \n",
      " 10  PERCENTILE          12411 non-null  int64 \n",
      " 11  OVEARLL_GRADE       12411 non-null  object\n",
      "dtypes: int32(5), int64(1), object(6)\n",
      "memory usage: 921.3+ KB\n"
     ]
    }
   ],
   "source": [
    "df.info()"
   ]
  },
  {
   "cell_type": "markdown",
   "id": "f714afa7-37b9-4fd8-b626-bd8d0434ef2a",
   "metadata": {},
   "source": [
    "## BOXPLOT"
   ]
  },
  {
   "cell_type": "code",
   "execution_count": 23,
   "id": "e63f25c9-4671-4976-843d-e1c092937bf5",
   "metadata": {},
   "outputs": [
    {
     "data": {
      "text/plain": [
       "<AxesSubplot: >"
      ]
     },
     "execution_count": 23,
     "metadata": {},
     "output_type": "execute_result"
    },
    {
     "data": {
      "image/png": "[encoded data removed]",
      "text/plain": [
       "<Figure size 1000x1000 with 1 Axes>"
      ]
     },
     "metadata": {},
     "output_type": "display_data"
    }
   ],
   "source": [
    "df.boxplot(figsize=(10,10))"
   ]
  },
  {
   "cell_type": "code",
   "execution_count": 24,
   "id": "b286c443-da20-4160-bfeb-113cf8e8ce80",
   "metadata": {},
   "outputs": [],
   "source": [
    "# sns.stripplot(x=df[\"PLACEMENT\"], y=df[\"COURSE 1 MARKS\"] ,data=df)"
   ]
  },
  {
   "cell_type": "code",
   "execution_count": 25,
   "id": "a621dd5c-11f2-4845-b96d-8eb02662b651",
   "metadata": {},
   "outputs": [],
   "source": [
    "Q1 = df[\"COURSE 1 MARKS\"] .quantile(0.25)\n",
    "Q3 = df[\"COURSE 1 MARKS\"].quantile(0.75)\n",
    "IQR = Q3-Q1\n",
    "lb= Q1 - 1.5*IQR\n",
    "ub = Q3 - 1.5*IQR"
   ]
  },
  {
   "cell_type": "code",
   "execution_count": 26,
   "id": "405d70e8-5286-4d3c-855f-437dd2317bd4",
   "metadata": {},
   "outputs": [],
   "source": [
    "# df[\"COURSE 1 MARKS\"] = np.where((df[\"COURSE 1 MARKS\"]<lb) | (df[\"COURSE 1 MARKS\"]>ub),df[\"COURSE 1 MARKS\"].median(),df[\"COURSE 1 MARKS\"])"
   ]
  },
  {
   "cell_type": "code",
   "execution_count": 27,
   "id": "d5f3b38e-a641-4b21-84c5-df7b0d2f4025",
   "metadata": {},
   "outputs": [
    {
     "data": {
      "text/plain": [
       "<AxesSubplot: >"
      ]
     },
     "execution_count": 27,
     "metadata": {},
     "output_type": "execute_result"
    },
    {
     "data": {
      "image/png": "[encoded data removed]",
      "text/plain": [
       "<Figure size 640x480 with 1 Axes>"
      ]
     },
     "metadata": {},
     "output_type": "display_data"
    }
   ],
   "source": [
    "df.boxplot()"
   ]
  },
  {
   "cell_type": "code",
   "execution_count": 28,
   "id": "983ec082-5d3b-4a27-8596-41697e3ee293",
   "metadata": {},
   "outputs": [],
   "source": [
    "outlier_indices = df[(df['COURSE 1 MARKS'] < lb) | (df['COURSE 1 MARKS'] > ub)].index"
   ]
  },
  {
   "cell_type": "code",
   "execution_count": 29,
   "id": "253b21d3-00f6-4d9a-a794-47ae4aff2d92",
   "metadata": {},
   "outputs": [
    {
     "data": {
      "text/plain": [
       "Index([    0,     1,     2,     3,     4,     5,     6,     7,     8,     9,\n",
       "       ...\n",
       "       12400, 12401, 12402, 12403, 12404, 12405, 12406, 12408, 12409, 12410],\n",
       "      dtype='int64', length=11004)"
      ]
     },
     "execution_count": 29,
     "metadata": {},
     "output_type": "execute_result"
    }
   ],
   "source": [
    "outlier_indices"
   ]
  },
  {
   "cell_type": "code",
   "execution_count": 30,
   "id": "50b14a37-5190-4769-9e87-5f24ce506f11",
   "metadata": {},
   "outputs": [],
   "source": [
    "# df_no_outliers = df.replace(to_replace=outlier_indices,value=df[\"COURSE 1 MARKS\"].median(),inplace=True)"
   ]
  },
  {
   "cell_type": "code",
   "execution_count": 31,
   "id": "b9d4c9c2-401b-4052-9b3e-b0c12b8816d6",
   "metadata": {},
   "outputs": [],
   "source": [
    "data = df.copy()"
   ]
  },
  {
   "cell_type": "code",
   "execution_count": null,
   "id": "43db4dc7-86f9-4de6-9064-0249e15f9537",
   "metadata": {},
   "outputs": [],
   "source": []
  },
  {
   "cell_type": "code",
   "execution_count": 32,
   "id": "d296feea-de8c-4005-97c5-a3572975e45a",
   "metadata": {},
   "outputs": [],
   "source": [
    "from sklearn.compose import ColumnTransformer"
   ]
  },
  {
   "cell_type": "code",
   "execution_count": 33,
   "id": "100b1c73-9b64-4acf-8709-160775c08339",
   "metadata": {},
   "outputs": [],
   "source": [
    "from sklearn.preprocessing import OneHotEncoder,OrdinalEncoder"
   ]
  },
  {
   "cell_type": "code",
   "execution_count": 34,
   "id": "e4834bf1-06fa-4fe4-b7f7-de69c77572da",
   "metadata": {},
   "outputs": [
    {
     "data": {
      "text/plain": [
       "Index(['GENDER', 'PLACEMENT', 'HONOR_OPTED_OR_NOT', 'EDUCATION_TYPE',\n",
       "       'ACADEMIC_PROGRAM', 'COURSE 1 MARKS', 'COURSE 2 MARKS',\n",
       "       'COURSE 3 MARKS', 'COURSE 4 MARKS', 'COURSE 5 MARKS', 'PERCENTILE',\n",
       "       'OVEARLL_GRADE'],\n",
       "      dtype='object')"
      ]
     },
     "execution_count": 34,
     "metadata": {},
     "output_type": "execute_result"
    }
   ],
   "source": [
    "df.columns"
   ]
  },
  {
   "cell_type": "code",
   "execution_count": 37,
   "id": "e7024f7e-9362-44e3-b784-23dde91ed12d",
   "metadata": {},
   "outputs": [],
   "source": [
    "ct = ColumnTransformer(transformers=[\n",
    "        (\n",
    "            'trf1',\n",
    "            OneHotEncoder(sparse_output=False,drop='first'),\n",
    "            ['GENDER','PLACEMENT','HONOR_OPTED_OR_NOT','EDUCATION_TYPE','ACADEMIC_PROGRAM']\n",
    "        ),\n",
    "        (\n",
    "            'trf2',\n",
    "            OrdinalEncoder(categories=[['FIRST CLASS', 'SECOND CLASS','THIRD CLASS','DISTINCTION']]),\n",
    "            ['OVEARLL_GRADE']\n",
    "        )\n",
    "    ], remainder = 'passthrough'\n",
    ")"
   ]
  },
  {
   "cell_type": "code",
   "execution_count": 39,
   "id": "391264f0-f6cb-4c24-a991-b3b0a621655c",
   "metadata": {},
   "outputs": [],
   "source": [
    "df2 = pd.DataFrame(ct.fit_transform(df),columns=ct.get_feature_names_out())"
   ]
  },
  {
   "cell_type": "code",
   "execution_count": 40,
   "id": "26fa2270-9952-4c6a-83cc-2f97e4f9ca28",
   "metadata": {},
   "outputs": [
    {
     "data": {
      "text/plain": [
       "array(['trf1__GENDER_M', 'trf1__PLACEMENT_Yes',\n",
       "       'trf1__HONOR_OPTED_OR_NOT_Yes', 'trf1__EDUCATION_TYPE_Not apply',\n",
       "       'trf1__EDUCATION_TYPE_TECHNICAL',\n",
       "       'trf1__EDUCATION_TYPE_TECHNICAL/ACADEMIC',\n",
       "       'trf1__ACADEMIC_PROGRAM_AUTOMATION ENGINEERING',\n",
       "       'trf1__ACADEMIC_PROGRAM_CATASTRAL ENGINEERING AND GEODESY',\n",
       "       'trf1__ACADEMIC_PROGRAM_CHEMICAL ENGINEERING',\n",
       "       'trf1__ACADEMIC_PROGRAM_CIVIL CONSTRUCTIONS',\n",
       "       'trf1__ACADEMIC_PROGRAM_CIVIL ENGINEERING',\n",
       "       'trf1__ACADEMIC_PROGRAM_CONTROL ENGINEERING',\n",
       "       'trf1__ACADEMIC_PROGRAM_ELECTRIC ENGINEERING',\n",
       "       'trf1__ACADEMIC_PROGRAM_ELECTRIC ENGINEERING AND TELECOMMUNICATIONS',\n",
       "       'trf1__ACADEMIC_PROGRAM_ELECTROMECHANICAL ENGINEERING',\n",
       "       'trf1__ACADEMIC_PROGRAM_ELECTRONIC ENGINEERING',\n",
       "       'trf1__ACADEMIC_PROGRAM_INDUSTRIAL AUTOMATIC ENGINEERING',\n",
       "       'trf1__ACADEMIC_PROGRAM_INDUSTRIAL CONTROL AND AUTOMATION ENGINEERING',\n",
       "       'trf1__ACADEMIC_PROGRAM_INDUSTRIAL ENGINEERING',\n",
       "       'trf1__ACADEMIC_PROGRAM_MECHANICAL ENGINEERING',\n",
       "       'trf1__ACADEMIC_PROGRAM_MECHATRONICS ENGINEERING',\n",
       "       'trf1__ACADEMIC_PROGRAM_PRODUCTION ENGINEERING',\n",
       "       'trf1__ACADEMIC_PROGRAM_PRODUCTIVITY AND QUALITY ENGINEERING',\n",
       "       'trf1__ACADEMIC_PROGRAM_TEXTILE ENGINEERING',\n",
       "       'trf1__ACADEMIC_PROGRAM_TOPOGRAPHIC ENGINEERY',\n",
       "       'trf1__ACADEMIC_PROGRAM_TRANSPORTATION AND ROAD ENGINEERING',\n",
       "       'trf2__OVEARLL_GRADE', 'remainder__COURSE 1 MARKS',\n",
       "       'remainder__COURSE 2 MARKS', 'remainder__COURSE 3 MARKS',\n",
       "       'remainder__COURSE 4 MARKS', 'remainder__COURSE 5 MARKS',\n",
       "       'remainder__PERCENTILE'], dtype=object)"
      ]
     },
     "execution_count": 40,
     "metadata": {},
     "output_type": "execute_result"
    }
   ],
   "source": [
    "ct.get_feature_names_out()"
   ]
  },
  {
   "cell_type": "code",
   "execution_count": 41,
   "id": "c1b7ced2-bccb-4255-8427-c53357defbf5",
   "metadata": {},
   "outputs": [
    {
     "data": {
      "text/html": [
       "<div>\n",
       "<style scoped>\n",
       "    .dataframe tbody tr th:only-of-type {\n",
       "        vertical-align: middle;\n",
       "    }\n",
       "\n",
       "    .dataframe tbody tr th {\n",
       "        vertical-align: top;\n",
       "    }\n",
       "\n",
       "    .dataframe thead th {\n",
       "        text-align: right;\n",
       "    }\n",
       "</style>\n",
       "<table border=\"1\" class=\"dataframe\">\n",
       "  <thead>\n",
       "    <tr style=\"text-align: right;\">\n",
       "      <th></th>\n",
       "      <th>trf1__GENDER_M</th>\n",
       "      <th>trf1__PLACEMENT_Yes</th>\n",
       "      <th>trf1__HONOR_OPTED_OR_NOT_Yes</th>\n",
       "      <th>trf1__EDUCATION_TYPE_Not apply</th>\n",
       "      <th>trf1__EDUCATION_TYPE_TECHNICAL</th>\n",
       "      <th>trf1__EDUCATION_TYPE_TECHNICAL/ACADEMIC</th>\n",
       "      <th>trf1__ACADEMIC_PROGRAM_AUTOMATION ENGINEERING</th>\n",
       "      <th>trf1__ACADEMIC_PROGRAM_CATASTRAL ENGINEERING AND GEODESY</th>\n",
       "      <th>trf1__ACADEMIC_PROGRAM_CHEMICAL ENGINEERING</th>\n",
       "      <th>trf1__ACADEMIC_PROGRAM_CIVIL CONSTRUCTIONS</th>\n",
       "      <th>...</th>\n",
       "      <th>trf1__ACADEMIC_PROGRAM_TEXTILE ENGINEERING</th>\n",
       "      <th>trf1__ACADEMIC_PROGRAM_TOPOGRAPHIC ENGINEERY</th>\n",
       "      <th>trf1__ACADEMIC_PROGRAM_TRANSPORTATION AND ROAD ENGINEERING</th>\n",
       "      <th>trf2__OVEARLL_GRADE</th>\n",
       "      <th>remainder__COURSE 1 MARKS</th>\n",
       "      <th>remainder__COURSE 2 MARKS</th>\n",
       "      <th>remainder__COURSE 3 MARKS</th>\n",
       "      <th>remainder__COURSE 4 MARKS</th>\n",
       "      <th>remainder__COURSE 5 MARKS</th>\n",
       "      <th>remainder__PERCENTILE</th>\n",
       "    </tr>\n",
       "  </thead>\n",
       "  <tbody>\n",
       "    <tr>\n",
       "      <th>0</th>\n",
       "      <td>0.0</td>\n",
       "      <td>1.0</td>\n",
       "      <td>1.0</td>\n",
       "      <td>0.0</td>\n",
       "      <td>0.0</td>\n",
       "      <td>0.0</td>\n",
       "      <td>0.0</td>\n",
       "      <td>0.0</td>\n",
       "      <td>0.0</td>\n",
       "      <td>0.0</td>\n",
       "      <td>...</td>\n",
       "      <td>0.0</td>\n",
       "      <td>0.0</td>\n",
       "      <td>0.0</td>\n",
       "      <td>0.0</td>\n",
       "      <td>71.0</td>\n",
       "      <td>93.0</td>\n",
       "      <td>71.0</td>\n",
       "      <td>93.0</td>\n",
       "      <td>79.0</td>\n",
       "      <td>91.0</td>\n",
       "    </tr>\n",
       "    <tr>\n",
       "      <th>1</th>\n",
       "      <td>0.0</td>\n",
       "      <td>1.0</td>\n",
       "      <td>1.0</td>\n",
       "      <td>0.0</td>\n",
       "      <td>0.0</td>\n",
       "      <td>0.0</td>\n",
       "      <td>0.0</td>\n",
       "      <td>0.0</td>\n",
       "      <td>0.0</td>\n",
       "      <td>0.0</td>\n",
       "      <td>...</td>\n",
       "      <td>0.0</td>\n",
       "      <td>0.0</td>\n",
       "      <td>0.0</td>\n",
       "      <td>2.0</td>\n",
       "      <td>97.0</td>\n",
       "      <td>38.0</td>\n",
       "      <td>86.0</td>\n",
       "      <td>98.0</td>\n",
       "      <td>78.0</td>\n",
       "      <td>92.0</td>\n",
       "    </tr>\n",
       "    <tr>\n",
       "      <th>2</th>\n",
       "      <td>1.0</td>\n",
       "      <td>0.0</td>\n",
       "      <td>1.0</td>\n",
       "      <td>0.0</td>\n",
       "      <td>0.0</td>\n",
       "      <td>0.0</td>\n",
       "      <td>0.0</td>\n",
       "      <td>0.0</td>\n",
       "      <td>0.0</td>\n",
       "      <td>0.0</td>\n",
       "      <td>...</td>\n",
       "      <td>0.0</td>\n",
       "      <td>0.0</td>\n",
       "      <td>0.0</td>\n",
       "      <td>3.0</td>\n",
       "      <td>17.0</td>\n",
       "      <td>1.0</td>\n",
       "      <td>18.0</td>\n",
       "      <td>43.0</td>\n",
       "      <td>22.0</td>\n",
       "      <td>7.0</td>\n",
       "    </tr>\n",
       "    <tr>\n",
       "      <th>3</th>\n",
       "      <td>0.0</td>\n",
       "      <td>1.0</td>\n",
       "      <td>1.0</td>\n",
       "      <td>0.0</td>\n",
       "      <td>0.0</td>\n",
       "      <td>0.0</td>\n",
       "      <td>0.0</td>\n",
       "      <td>0.0</td>\n",
       "      <td>0.0</td>\n",
       "      <td>0.0</td>\n",
       "      <td>...</td>\n",
       "      <td>0.0</td>\n",
       "      <td>0.0</td>\n",
       "      <td>0.0</td>\n",
       "      <td>0.0</td>\n",
       "      <td>65.0</td>\n",
       "      <td>35.0</td>\n",
       "      <td>76.0</td>\n",
       "      <td>80.0</td>\n",
       "      <td>48.0</td>\n",
       "      <td>67.0</td>\n",
       "    </tr>\n",
       "    <tr>\n",
       "      <th>4</th>\n",
       "      <td>1.0</td>\n",
       "      <td>1.0</td>\n",
       "      <td>1.0</td>\n",
       "      <td>0.0</td>\n",
       "      <td>0.0</td>\n",
       "      <td>0.0</td>\n",
       "      <td>0.0</td>\n",
       "      <td>0.0</td>\n",
       "      <td>0.0</td>\n",
       "      <td>0.0</td>\n",
       "      <td>...</td>\n",
       "      <td>0.0</td>\n",
       "      <td>0.0</td>\n",
       "      <td>0.0</td>\n",
       "      <td>0.0</td>\n",
       "      <td>94.0</td>\n",
       "      <td>94.0</td>\n",
       "      <td>98.0</td>\n",
       "      <td>100.0</td>\n",
       "      <td>71.0</td>\n",
       "      <td>98.0</td>\n",
       "    </tr>\n",
       "    <tr>\n",
       "      <th>...</th>\n",
       "      <td>...</td>\n",
       "      <td>...</td>\n",
       "      <td>...</td>\n",
       "      <td>...</td>\n",
       "      <td>...</td>\n",
       "      <td>...</td>\n",
       "      <td>...</td>\n",
       "      <td>...</td>\n",
       "      <td>...</td>\n",
       "      <td>...</td>\n",
       "      <td>...</td>\n",
       "      <td>...</td>\n",
       "      <td>...</td>\n",
       "      <td>...</td>\n",
       "      <td>...</td>\n",
       "      <td>...</td>\n",
       "      <td>...</td>\n",
       "      <td>...</td>\n",
       "      <td>...</td>\n",
       "      <td>...</td>\n",
       "      <td>...</td>\n",
       "    </tr>\n",
       "    <tr>\n",
       "      <th>12406</th>\n",
       "      <td>1.0</td>\n",
       "      <td>1.0</td>\n",
       "      <td>1.0</td>\n",
       "      <td>0.0</td>\n",
       "      <td>0.0</td>\n",
       "      <td>0.0</td>\n",
       "      <td>0.0</td>\n",
       "      <td>0.0</td>\n",
       "      <td>0.0</td>\n",
       "      <td>0.0</td>\n",
       "      <td>...</td>\n",
       "      <td>0.0</td>\n",
       "      <td>0.0</td>\n",
       "      <td>0.0</td>\n",
       "      <td>0.0</td>\n",
       "      <td>88.0</td>\n",
       "      <td>71.0</td>\n",
       "      <td>86.0</td>\n",
       "      <td>87.0</td>\n",
       "      <td>65.0</td>\n",
       "      <td>88.0</td>\n",
       "    </tr>\n",
       "    <tr>\n",
       "      <th>12407</th>\n",
       "      <td>1.0</td>\n",
       "      <td>1.0</td>\n",
       "      <td>1.0</td>\n",
       "      <td>0.0</td>\n",
       "      <td>0.0</td>\n",
       "      <td>0.0</td>\n",
       "      <td>0.0</td>\n",
       "      <td>0.0</td>\n",
       "      <td>0.0</td>\n",
       "      <td>0.0</td>\n",
       "      <td>...</td>\n",
       "      <td>0.0</td>\n",
       "      <td>0.0</td>\n",
       "      <td>0.0</td>\n",
       "      <td>0.0</td>\n",
       "      <td>46.0</td>\n",
       "      <td>39.0</td>\n",
       "      <td>44.0</td>\n",
       "      <td>11.0</td>\n",
       "      <td>0.0</td>\n",
       "      <td>4.0</td>\n",
       "    </tr>\n",
       "    <tr>\n",
       "      <th>12408</th>\n",
       "      <td>1.0</td>\n",
       "      <td>1.0</td>\n",
       "      <td>0.0</td>\n",
       "      <td>0.0</td>\n",
       "      <td>0.0</td>\n",
       "      <td>0.0</td>\n",
       "      <td>0.0</td>\n",
       "      <td>0.0</td>\n",
       "      <td>0.0</td>\n",
       "      <td>0.0</td>\n",
       "      <td>...</td>\n",
       "      <td>0.0</td>\n",
       "      <td>0.0</td>\n",
       "      <td>0.0</td>\n",
       "      <td>0.0</td>\n",
       "      <td>98.0</td>\n",
       "      <td>88.0</td>\n",
       "      <td>90.0</td>\n",
       "      <td>81.0</td>\n",
       "      <td>87.0</td>\n",
       "      <td>95.0</td>\n",
       "    </tr>\n",
       "    <tr>\n",
       "      <th>12409</th>\n",
       "      <td>0.0</td>\n",
       "      <td>1.0</td>\n",
       "      <td>1.0</td>\n",
       "      <td>0.0</td>\n",
       "      <td>0.0</td>\n",
       "      <td>0.0</td>\n",
       "      <td>0.0</td>\n",
       "      <td>0.0</td>\n",
       "      <td>0.0</td>\n",
       "      <td>0.0</td>\n",
       "      <td>...</td>\n",
       "      <td>0.0</td>\n",
       "      <td>0.0</td>\n",
       "      <td>0.0</td>\n",
       "      <td>0.0</td>\n",
       "      <td>60.0</td>\n",
       "      <td>80.0</td>\n",
       "      <td>51.0</td>\n",
       "      <td>8.0</td>\n",
       "      <td>42.0</td>\n",
       "      <td>50.0</td>\n",
       "    </tr>\n",
       "    <tr>\n",
       "      <th>12410</th>\n",
       "      <td>1.0</td>\n",
       "      <td>0.0</td>\n",
       "      <td>0.0</td>\n",
       "      <td>0.0</td>\n",
       "      <td>0.0</td>\n",
       "      <td>0.0</td>\n",
       "      <td>0.0</td>\n",
       "      <td>0.0</td>\n",
       "      <td>0.0</td>\n",
       "      <td>0.0</td>\n",
       "      <td>...</td>\n",
       "      <td>0.0</td>\n",
       "      <td>0.0</td>\n",
       "      <td>0.0</td>\n",
       "      <td>2.0</td>\n",
       "      <td>83.0</td>\n",
       "      <td>95.0</td>\n",
       "      <td>91.0</td>\n",
       "      <td>79.0</td>\n",
       "      <td>47.0</td>\n",
       "      <td>89.0</td>\n",
       "    </tr>\n",
       "  </tbody>\n",
       "</table>\n",
       "<p>12411 rows × 33 columns</p>\n",
       "</div>"
      ],
      "text/plain": [
       "       trf1__GENDER_M  trf1__PLACEMENT_Yes  trf1__HONOR_OPTED_OR_NOT_Yes   \n",
       "0                 0.0                  1.0                           1.0  \\\n",
       "1                 0.0                  1.0                           1.0   \n",
       "2                 1.0                  0.0                           1.0   \n",
       "3                 0.0                  1.0                           1.0   \n",
       "4                 1.0                  1.0                           1.0   \n",
       "...               ...                  ...                           ...   \n",
       "12406             1.0                  1.0                           1.0   \n",
       "12407             1.0                  1.0                           1.0   \n",
       "12408             1.0                  1.0                           0.0   \n",
       "12409             0.0                  1.0                           1.0   \n",
       "12410             1.0                  0.0                           0.0   \n",
       "\n",
       "       trf1__EDUCATION_TYPE_Not apply  trf1__EDUCATION_TYPE_TECHNICAL   \n",
       "0                                 0.0                             0.0  \\\n",
       "1                                 0.0                             0.0   \n",
       "2                                 0.0                             0.0   \n",
       "3                                 0.0                             0.0   \n",
       "4                                 0.0                             0.0   \n",
       "...                               ...                             ...   \n",
       "12406                             0.0                             0.0   \n",
       "12407                             0.0                             0.0   \n",
       "12408                             0.0                             0.0   \n",
       "12409                             0.0                             0.0   \n",
       "12410                             0.0                             0.0   \n",
       "\n",
       "       trf1__EDUCATION_TYPE_TECHNICAL/ACADEMIC   \n",
       "0                                          0.0  \\\n",
       "1                                          0.0   \n",
       "2                                          0.0   \n",
       "3                                          0.0   \n",
       "4                                          0.0   \n",
       "...                                        ...   \n",
       "12406                                      0.0   \n",
       "12407                                      0.0   \n",
       "12408                                      0.0   \n",
       "12409                                      0.0   \n",
       "12410                                      0.0   \n",
       "\n",
       "       trf1__ACADEMIC_PROGRAM_AUTOMATION ENGINEERING   \n",
       "0                                                0.0  \\\n",
       "1                                                0.0   \n",
       "2                                                0.0   \n",
       "3                                                0.0   \n",
       "4                                                0.0   \n",
       "...                                              ...   \n",
       "12406                                            0.0   \n",
       "12407                                            0.0   \n",
       "12408                                            0.0   \n",
       "12409                                            0.0   \n",
       "12410                                            0.0   \n",
       "\n",
       "       trf1__ACADEMIC_PROGRAM_CATASTRAL ENGINEERING AND GEODESY   \n",
       "0                                                    0.0         \\\n",
       "1                                                    0.0          \n",
       "2                                                    0.0          \n",
       "3                                                    0.0          \n",
       "4                                                    0.0          \n",
       "...                                                  ...          \n",
       "12406                                                0.0          \n",
       "12407                                                0.0          \n",
       "12408                                                0.0          \n",
       "12409                                                0.0          \n",
       "12410                                                0.0          \n",
       "\n",
       "       trf1__ACADEMIC_PROGRAM_CHEMICAL ENGINEERING   \n",
       "0                                              0.0  \\\n",
       "1                                              0.0   \n",
       "2                                              0.0   \n",
       "3                                              0.0   \n",
       "4                                              0.0   \n",
       "...                                            ...   \n",
       "12406                                          0.0   \n",
       "12407                                          0.0   \n",
       "12408                                          0.0   \n",
       "12409                                          0.0   \n",
       "12410                                          0.0   \n",
       "\n",
       "       trf1__ACADEMIC_PROGRAM_CIVIL CONSTRUCTIONS  ...   \n",
       "0                                             0.0  ...  \\\n",
       "1                                             0.0  ...   \n",
       "2                                             0.0  ...   \n",
       "3                                             0.0  ...   \n",
       "4                                             0.0  ...   \n",
       "...                                           ...  ...   \n",
       "12406                                         0.0  ...   \n",
       "12407                                         0.0  ...   \n",
       "12408                                         0.0  ...   \n",
       "12409                                         0.0  ...   \n",
       "12410                                         0.0  ...   \n",
       "\n",
       "       trf1__ACADEMIC_PROGRAM_TEXTILE ENGINEERING   \n",
       "0                                             0.0  \\\n",
       "1                                             0.0   \n",
       "2                                             0.0   \n",
       "3                                             0.0   \n",
       "4                                             0.0   \n",
       "...                                           ...   \n",
       "12406                                         0.0   \n",
       "12407                                         0.0   \n",
       "12408                                         0.0   \n",
       "12409                                         0.0   \n",
       "12410                                         0.0   \n",
       "\n",
       "       trf1__ACADEMIC_PROGRAM_TOPOGRAPHIC ENGINEERY   \n",
       "0                                               0.0  \\\n",
       "1                                               0.0   \n",
       "2                                               0.0   \n",
       "3                                               0.0   \n",
       "4                                               0.0   \n",
       "...                                             ...   \n",
       "12406                                           0.0   \n",
       "12407                                           0.0   \n",
       "12408                                           0.0   \n",
       "12409                                           0.0   \n",
       "12410                                           0.0   \n",
       "\n",
       "       trf1__ACADEMIC_PROGRAM_TRANSPORTATION AND ROAD ENGINEERING   \n",
       "0                                                    0.0           \\\n",
       "1                                                    0.0            \n",
       "2                                                    0.0            \n",
       "3                                                    0.0            \n",
       "4                                                    0.0            \n",
       "...                                                  ...            \n",
       "12406                                                0.0            \n",
       "12407                                                0.0            \n",
       "12408                                                0.0            \n",
       "12409                                                0.0            \n",
       "12410                                                0.0            \n",
       "\n",
       "       trf2__OVEARLL_GRADE  remainder__COURSE 1 MARKS   \n",
       "0                      0.0                       71.0  \\\n",
       "1                      2.0                       97.0   \n",
       "2                      3.0                       17.0   \n",
       "3                      0.0                       65.0   \n",
       "4                      0.0                       94.0   \n",
       "...                    ...                        ...   \n",
       "12406                  0.0                       88.0   \n",
       "12407                  0.0                       46.0   \n",
       "12408                  0.0                       98.0   \n",
       "12409                  0.0                       60.0   \n",
       "12410                  2.0                       83.0   \n",
       "\n",
       "       remainder__COURSE 2 MARKS  remainder__COURSE 3 MARKS   \n",
       "0                           93.0                       71.0  \\\n",
       "1                           38.0                       86.0   \n",
       "2                            1.0                       18.0   \n",
       "3                           35.0                       76.0   \n",
       "4                           94.0                       98.0   \n",
       "...                          ...                        ...   \n",
       "12406                       71.0                       86.0   \n",
       "12407                       39.0                       44.0   \n",
       "12408                       88.0                       90.0   \n",
       "12409                       80.0                       51.0   \n",
       "12410                       95.0                       91.0   \n",
       "\n",
       "       remainder__COURSE 4 MARKS  remainder__COURSE 5 MARKS   \n",
       "0                           93.0                       79.0  \\\n",
       "1                           98.0                       78.0   \n",
       "2                           43.0                       22.0   \n",
       "3                           80.0                       48.0   \n",
       "4                          100.0                       71.0   \n",
       "...                          ...                        ...   \n",
       "12406                       87.0                       65.0   \n",
       "12407                       11.0                        0.0   \n",
       "12408                       81.0                       87.0   \n",
       "12409                        8.0                       42.0   \n",
       "12410                       79.0                       47.0   \n",
       "\n",
       "       remainder__PERCENTILE  \n",
       "0                       91.0  \n",
       "1                       92.0  \n",
       "2                        7.0  \n",
       "3                       67.0  \n",
       "4                       98.0  \n",
       "...                      ...  \n",
       "12406                   88.0  \n",
       "12407                    4.0  \n",
       "12408                   95.0  \n",
       "12409                   50.0  \n",
       "12410                   89.0  \n",
       "\n",
       "[12411 rows x 33 columns]"
      ]
     },
     "execution_count": 41,
     "metadata": {},
     "output_type": "execute_result"
    }
   ],
   "source": [
    "df2"
   ]
  },
  {
   "cell_type": "code",
   "execution_count": 42,
   "id": "0a4dd6e8-e345-4ce0-9905-2dac389ca510",
   "metadata": {},
   "outputs": [
    {
     "data": {
      "text/plain": [
       "Index(['trf1__GENDER_M', 'trf1__PLACEMENT_Yes', 'trf1__HONOR_OPTED_OR_NOT_Yes',\n",
       "       'trf1__EDUCATION_TYPE_Not apply', 'trf1__EDUCATION_TYPE_TECHNICAL',\n",
       "       'trf1__EDUCATION_TYPE_TECHNICAL/ACADEMIC',\n",
       "       'trf1__ACADEMIC_PROGRAM_AUTOMATION ENGINEERING',\n",
       "       'trf1__ACADEMIC_PROGRAM_CATASTRAL ENGINEERING AND GEODESY',\n",
       "       'trf1__ACADEMIC_PROGRAM_CHEMICAL ENGINEERING',\n",
       "       'trf1__ACADEMIC_PROGRAM_CIVIL CONSTRUCTIONS',\n",
       "       'trf1__ACADEMIC_PROGRAM_CIVIL ENGINEERING',\n",
       "       'trf1__ACADEMIC_PROGRAM_CONTROL ENGINEERING',\n",
       "       'trf1__ACADEMIC_PROGRAM_ELECTRIC ENGINEERING',\n",
       "       'trf1__ACADEMIC_PROGRAM_ELECTRIC ENGINEERING AND TELECOMMUNICATIONS',\n",
       "       'trf1__ACADEMIC_PROGRAM_ELECTROMECHANICAL ENGINEERING',\n",
       "       'trf1__ACADEMIC_PROGRAM_ELECTRONIC ENGINEERING',\n",
       "       'trf1__ACADEMIC_PROGRAM_INDUSTRIAL AUTOMATIC ENGINEERING',\n",
       "       'trf1__ACADEMIC_PROGRAM_INDUSTRIAL CONTROL AND AUTOMATION ENGINEERING',\n",
       "       'trf1__ACADEMIC_PROGRAM_INDUSTRIAL ENGINEERING',\n",
       "       'trf1__ACADEMIC_PROGRAM_MECHANICAL ENGINEERING',\n",
       "       'trf1__ACADEMIC_PROGRAM_MECHATRONICS ENGINEERING',\n",
       "       'trf1__ACADEMIC_PROGRAM_PRODUCTION ENGINEERING',\n",
       "       'trf1__ACADEMIC_PROGRAM_PRODUCTIVITY AND QUALITY ENGINEERING',\n",
       "       'trf1__ACADEMIC_PROGRAM_TEXTILE ENGINEERING',\n",
       "       'trf1__ACADEMIC_PROGRAM_TOPOGRAPHIC ENGINEERY',\n",
       "       'trf1__ACADEMIC_PROGRAM_TRANSPORTATION AND ROAD ENGINEERING',\n",
       "       'trf2__OVEARLL_GRADE', 'remainder__COURSE 1 MARKS',\n",
       "       'remainder__COURSE 2 MARKS', 'remainder__COURSE 3 MARKS',\n",
       "       'remainder__COURSE 4 MARKS', 'remainder__COURSE 5 MARKS',\n",
       "       'remainder__PERCENTILE'],\n",
       "      dtype='object')"
      ]
     },
     "execution_count": 42,
     "metadata": {},
     "output_type": "execute_result"
    }
   ],
   "source": [
    "df2.columns"
   ]
  },
  {
   "cell_type": "code",
   "execution_count": 45,
   "id": "f64426a7-265d-4447-b949-ecbe55c626ec",
   "metadata": {},
   "outputs": [
    {
     "data": {
      "text/plain": [
       "0        FIRST CLASS\n",
       "1        THIRD CLASS\n",
       "2        DISTINCTION\n",
       "3        FIRST CLASS\n",
       "4        FIRST CLASS\n",
       "            ...     \n",
       "12406    FIRST CLASS\n",
       "12407    FIRST CLASS\n",
       "12408    FIRST CLASS\n",
       "12409    FIRST CLASS\n",
       "12410    THIRD CLASS\n",
       "Name: OVEARLL_GRADE, Length: 12411, dtype: object"
      ]
     },
     "execution_count": 45,
     "metadata": {},
     "output_type": "execute_result"
    }
   ],
   "source": [
    "df[\"OVEARLL_GRADE\"]"
   ]
  },
  {
   "cell_type": "code",
   "execution_count": 47,
   "id": "69406eb8-34b6-4c24-9193-0e09bb8a3ea0",
   "metadata": {},
   "outputs": [
    {
     "data": {
      "text/plain": [
       "0        0.0\n",
       "1        2.0\n",
       "2        3.0\n",
       "3        0.0\n",
       "4        0.0\n",
       "        ... \n",
       "12406    0.0\n",
       "12407    0.0\n",
       "12408    0.0\n",
       "12409    0.0\n",
       "12410    2.0\n",
       "Name: trf2__OVEARLL_GRADE, Length: 12411, dtype: float64"
      ]
     },
     "execution_count": 47,
     "metadata": {},
     "output_type": "execute_result"
    }
   ],
   "source": [
    "df2[\"trf2__OVEARLL_GRADE\"]"
   ]
  },
  {
   "cell_type": "code",
   "execution_count": null,
   "id": "25d2b990-cdc8-42c4-bb6c-a11dfbc95c7e",
   "metadata": {},
   "outputs": [],
   "source": []
  }
 ],
 "metadata": {
  "kernelspec": {
   "display_name": "Python 3 (ipykernel)",
   "language": "python",
   "name": "python3"
  },
  "language_info": {
   "codemirror_mode": {
    "name": "ipython",
    "version": 3
   },
   "file_extension": ".py",
   "mimetype": "text/x-python",
   "name": "python",
   "nbconvert_exporter": "python",
   "pygments_lexer": "ipython3",
   "version": "3.10.4"
  }
 },
 "nbformat": 4,
 "nbformat_minor": 5
}
