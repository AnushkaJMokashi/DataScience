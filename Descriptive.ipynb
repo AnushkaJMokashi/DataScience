{
 "cells": [
  {
   "cell_type": "markdown",
   "id": "e0fd9759-51ca-4225-936d-c04ea8ae0b33",
   "metadata": {},
   "source": [
    "PS2:Perform the following operations on Age-Income dataset (Age-Income-Dataset.csv) \n",
    "Provide summary statistics (mean, median, minimum, maximum, standard deviation) for numeric variables with and \n",
    "without using any library functions. \n",
    "Provide summary statistics of income grouped by the age groups. Create a list that contains a numeric value for each \n",
    "response to the categorical variable. "
   ]
  },
  {
   "cell_type": "code",
   "execution_count": 1,
   "id": "1f9e1ec0-9bdf-4bf2-aaf8-87e7502fe121",
   "metadata": {},
   "outputs": [],
   "source": [
    "import pandas as pd\n",
    "import numpy as np"
   ]
  },
  {
   "cell_type": "code",
   "execution_count": 2,
   "id": "ad70c03e-6655-4f65-86dd-b6f4ae242f03",
   "metadata": {},
   "outputs": [
    {
     "data": {
      "text/html": [
       "<div>\n",
       "<style scoped>\n",
       "    .dataframe tbody tr th:only-of-type {\n",
       "        vertical-align: middle;\n",
       "    }\n",
       "\n",
       "    .dataframe tbody tr th {\n",
       "        vertical-align: top;\n",
       "    }\n",
       "\n",
       "    .dataframe thead th {\n",
       "        text-align: right;\n",
       "    }\n",
       "</style>\n",
       "<table border=\"1\" class=\"dataframe\">\n",
       "  <thead>\n",
       "    <tr style=\"text-align: right;\">\n",
       "      <th></th>\n",
       "      <th>Age</th>\n",
       "      <th>Income</th>\n",
       "    </tr>\n",
       "  </thead>\n",
       "  <tbody>\n",
       "    <tr>\n",
       "      <th>0</th>\n",
       "      <td>Young</td>\n",
       "      <td>25000</td>\n",
       "    </tr>\n",
       "    <tr>\n",
       "      <th>1</th>\n",
       "      <td>Middle Age</td>\n",
       "      <td>54000</td>\n",
       "    </tr>\n",
       "    <tr>\n",
       "      <th>2</th>\n",
       "      <td>Old</td>\n",
       "      <td>60000</td>\n",
       "    </tr>\n",
       "    <tr>\n",
       "      <th>3</th>\n",
       "      <td>Young</td>\n",
       "      <td>15000</td>\n",
       "    </tr>\n",
       "    <tr>\n",
       "      <th>4</th>\n",
       "      <td>Young</td>\n",
       "      <td>45000</td>\n",
       "    </tr>\n",
       "  </tbody>\n",
       "</table>\n",
       "</div>"
      ],
      "text/plain": [
       "          Age  Income\n",
       "0       Young   25000\n",
       "1  Middle Age   54000\n",
       "2         Old   60000\n",
       "3       Young   15000\n",
       "4       Young   45000"
      ]
     },
     "execution_count": 2,
     "metadata": {},
     "output_type": "execute_result"
    }
   ],
   "source": [
    "df = pd.read_csv('Age-Income-Dataset.csv')\n",
    "df.head(5)"
   ]
  },
  {
   "cell_type": "code",
   "execution_count": 3,
   "id": "9379ad46-bb51-4b4b-9116-fb81dc755fcb",
   "metadata": {},
   "outputs": [
    {
     "data": {
      "text/html": [
       "<div>\n",
       "<style scoped>\n",
       "    .dataframe tbody tr th:only-of-type {\n",
       "        vertical-align: middle;\n",
       "    }\n",
       "\n",
       "    .dataframe tbody tr th {\n",
       "        vertical-align: top;\n",
       "    }\n",
       "\n",
       "    .dataframe thead th {\n",
       "        text-align: right;\n",
       "    }\n",
       "</style>\n",
       "<table border=\"1\" class=\"dataframe\">\n",
       "  <thead>\n",
       "    <tr style=\"text-align: right;\">\n",
       "      <th></th>\n",
       "      <th>Income</th>\n",
       "    </tr>\n",
       "  </thead>\n",
       "  <tbody>\n",
       "    <tr>\n",
       "      <th>count</th>\n",
       "      <td>50.000000</td>\n",
       "    </tr>\n",
       "    <tr>\n",
       "      <th>mean</th>\n",
       "      <td>50966.000000</td>\n",
       "    </tr>\n",
       "    <tr>\n",
       "      <th>std</th>\n",
       "      <td>21096.683268</td>\n",
       "    </tr>\n",
       "    <tr>\n",
       "      <th>min</th>\n",
       "      <td>15000.000000</td>\n",
       "    </tr>\n",
       "    <tr>\n",
       "      <th>25%</th>\n",
       "      <td>33475.000000</td>\n",
       "    </tr>\n",
       "    <tr>\n",
       "      <th>50%</th>\n",
       "      <td>46850.000000</td>\n",
       "    </tr>\n",
       "    <tr>\n",
       "      <th>75%</th>\n",
       "      <td>65400.000000</td>\n",
       "    </tr>\n",
       "    <tr>\n",
       "      <th>max</th>\n",
       "      <td>93000.000000</td>\n",
       "    </tr>\n",
       "  </tbody>\n",
       "</table>\n",
       "</div>"
      ],
      "text/plain": [
       "             Income\n",
       "count     50.000000\n",
       "mean   50966.000000\n",
       "std    21096.683268\n",
       "min    15000.000000\n",
       "25%    33475.000000\n",
       "50%    46850.000000\n",
       "75%    65400.000000\n",
       "max    93000.000000"
      ]
     },
     "execution_count": 3,
     "metadata": {},
     "output_type": "execute_result"
    }
   ],
   "source": [
    "df.describe()"
   ]
  },
  {
   "cell_type": "code",
   "execution_count": 4,
   "id": "08a4aeb5-48f6-4a33-b290-d1926a06cada",
   "metadata": {},
   "outputs": [
    {
     "data": {
      "text/plain": [
       "Age       0\n",
       "Income    0\n",
       "dtype: int64"
      ]
     },
     "execution_count": 4,
     "metadata": {},
     "output_type": "execute_result"
    }
   ],
   "source": [
    "df.isnull().sum()"
   ]
  },
  {
   "cell_type": "code",
   "execution_count": 5,
   "id": "9d11a7c6-e59a-4e36-b5de-44a1a4fc0030",
   "metadata": {},
   "outputs": [
    {
     "name": "stdout",
     "output_type": "stream",
     "text": [
      "<class 'pandas.core.frame.DataFrame'>\n",
      "RangeIndex: 50 entries, 0 to 49\n",
      "Data columns (total 2 columns):\n",
      " #   Column  Non-Null Count  Dtype \n",
      "---  ------  --------------  ----- \n",
      " 0   Age     50 non-null     object\n",
      " 1   Income  50 non-null     int64 \n",
      "dtypes: int64(1), object(1)\n",
      "memory usage: 928.0+ bytes\n"
     ]
    }
   ],
   "source": [
    "df.info()"
   ]
  },
  {
   "cell_type": "code",
   "execution_count": 6,
   "id": "c005d155-f3c6-4c74-9044-dfbbf80c274b",
   "metadata": {},
   "outputs": [],
   "source": [
    "### MEAN"
   ]
  },
  {
   "cell_type": "code",
   "execution_count": 7,
   "id": "95cc8be0-65e2-4f6d-8451-c214e7869d21",
   "metadata": {},
   "outputs": [
    {
     "name": "stdout",
     "output_type": "stream",
     "text": [
      "Without Library -> \n",
      "Average of Income is 50966.0\n",
      "\n",
      "With Libreary -> \n",
      "50966.0\n"
     ]
    }
   ],
   "source": [
    "def mean_f(df):\n",
    "    for col in df.columns:\n",
    "        if df[col].dtype != 'O':\n",
    "            temp = 0\n",
    "            for i in df[col]:\n",
    "                temp = temp +i\n",
    "            print(\"Without Library -> \")\n",
    "            print(\"Average of {} is {}\".format(col,(temp/len(df[col]))))\n",
    "            print()\n",
    "            print(\"With Libreary -> \")\n",
    "            print(df[col].mean())\n",
    "\n",
    "mean_f(df)"
   ]
  },
  {
   "cell_type": "code",
   "execution_count": 8,
   "id": "e3108ed0-2d14-45dd-8831-b014b83ce162",
   "metadata": {},
   "outputs": [
    {
     "name": "stdout",
     "output_type": "stream",
     "text": [
      "Median without library ->\n",
      "Median of Income is 49850.0 \n",
      "Median with library ->\n",
      "46850.0\n"
     ]
    }
   ],
   "source": [
    "def median_f(df):\n",
    "    for col in df.columns:\n",
    "        if df[col].dtype != 'O':\n",
    "            sorted_data = sorted(df[col])\n",
    "            n = len(df[col])\n",
    "            if n%2 == 0:\n",
    "                x1 =sorted_data[int((n/2))]\n",
    "                x2 =sorted_data[int((n/2))+1]\n",
    "                median=(x1+x2)/2\n",
    "            else:\n",
    "                median = sorted_data[(n+1)/2]\n",
    "    print(\"Median without library ->\")\n",
    "    print(\"Median of {} is {} \".format(col,median))\n",
    "    print(\"Median with library ->\")\n",
    "    print(df[col].median())             \n",
    "median_f(df)"
   ]
  },
  {
   "cell_type": "code",
   "execution_count": 9,
   "id": "cb6806ff-7365-4f10-b7c5-e07bcd4c59ae",
   "metadata": {},
   "outputs": [
    {
     "name": "stdout",
     "output_type": "stream",
     "text": [
      "Without Library-> 15000\n",
      "With Library-> 15000\n"
     ]
    }
   ],
   "source": [
    "def min_f(df):\n",
    "    for col in df.columns:\n",
    "        if df[col].dtype != \"O\":\n",
    "            sorted_data = sorted(df[col])\n",
    "            min = sorted_data[0]\n",
    "            print(\"Without Library->\",min)\n",
    "            print(\"With Library->\",df[col].min())\n",
    "    \n",
    "min_f(df) "
   ]
  },
  {
   "cell_type": "code",
   "execution_count": 12,
   "id": "c278449b-b087-400d-8674-36b95fb58610",
   "metadata": {},
   "outputs": [
    {
     "name": "stdout",
     "output_type": "stream",
     "text": [
      "Without Library-> 93000\n",
      "With Library-> 93000\n"
     ]
    }
   ],
   "source": [
    "def max_f(df):\n",
    "    for col in df.columns:\n",
    "        if df[col].dtype != \"O\":\n",
    "            sorted_data = sorted(df[col])\n",
    "            min = sorted_data[len(df[col])-1]\n",
    "            print(\"Without Library->\",min)\n",
    "            print(\"With Library->\",df[col].max())\n",
    "    \n",
    "max_f(df) "
   ]
  },
  {
   "cell_type": "code",
   "execution_count": 13,
   "id": "f2bdef43-86ba-4192-b87b-e00f599a650e",
   "metadata": {},
   "outputs": [
    {
     "name": "stdout",
     "output_type": "stream",
     "text": [
      "Without Library ->\n",
      "Std :  20884.6509187968\n",
      "With Library: ->\n",
      "Std : 20884.6509187968\n"
     ]
    }
   ],
   "source": [
    "import math\n",
    "def std_f(df):\n",
    "    for col in df.columns:\n",
    "        if len(df[col]) == 0:\n",
    "            print(\"Column is empty\")\n",
    "        if df[col].dtype != 'O':\n",
    "            sum = 0\n",
    "            mean = df[col].mean()\n",
    "            for i in df[col]:\n",
    "                sum = sum + (i - mean)**2\n",
    "                \n",
    "            std = math.sqrt(sum/len(df[col]))\n",
    "            print(\"Without Library ->\")\n",
    "            print(\"Std : \" , std)\n",
    "            print(\"With Library: ->\")\n",
    "            print(\"Std : {}\".format(np.std(df[col])))            ##ddof = 1\n",
    "                \n",
    "std_f(df)"
   ]
  },
  {
   "cell_type": "code",
   "execution_count": null,
   "id": "d841fb1b-f2fe-4f3b-b0cf-a92f9b205185",
   "metadata": {},
   "outputs": [],
   "source": []
  },
  {
   "cell_type": "code",
   "execution_count": 14,
   "id": "dbc277c4-e354-408e-9f51-fd48a7c83ddd",
   "metadata": {},
   "outputs": [
    {
     "data": {
      "text/plain": [
       "Age\n",
       "Middle Age    52453.333333\n",
       "Old           53942.105263\n",
       "Young         46037.500000\n",
       "Name: Income, dtype: float64"
      ]
     },
     "execution_count": 14,
     "metadata": {},
     "output_type": "execute_result"
    }
   ],
   "source": [
    "df.groupby(\"Age\")[\"Income\"].mean()"
   ]
  },
  {
   "cell_type": "code",
   "execution_count": 15,
   "id": "fba66399-37f5-4243-b2ab-417852bd3901",
   "metadata": {},
   "outputs": [
    {
     "data": {
      "text/plain": [
       "Age\n",
       "Middle Age    53200.0\n",
       "Old           45300.0\n",
       "Young         41500.0\n",
       "Name: Income, dtype: float64"
      ]
     },
     "execution_count": 15,
     "metadata": {},
     "output_type": "execute_result"
    }
   ],
   "source": [
    "df.groupby(\"Age\")[\"Income\"].median()"
   ]
  },
  {
   "cell_type": "code",
   "execution_count": 32,
   "id": "2f9f7db5-9a79-409c-a0eb-789ec35cdd0c",
   "metadata": {},
   "outputs": [
    {
     "data": {
      "text/plain": [
       "Age\n",
       "Middle Age    15\n",
       "Old           19\n",
       "Young         16\n",
       "Name: Income, dtype: int64"
      ]
     },
     "execution_count": 32,
     "metadata": {},
     "output_type": "execute_result"
    }
   ],
   "source": [
    "df.groupby(\"Age\")[\"Income\"].count()"
   ]
  },
  {
   "cell_type": "code",
   "execution_count": 33,
   "id": "5a3dd6c8-8d03-46dd-9539-b48b29b7b077",
   "metadata": {},
   "outputs": [
    {
     "data": {
      "text/plain": [
       "Age\n",
       "Middle Age    20497.800114\n",
       "Old           20868.165968\n",
       "Young         22356.859499\n",
       "Name: Income, dtype: float64"
      ]
     },
     "execution_count": 33,
     "metadata": {},
     "output_type": "execute_result"
    }
   ],
   "source": [
    "df.groupby(\"Age\")[\"Income\"].std()"
   ]
  },
  {
   "cell_type": "code",
   "execution_count": 34,
   "id": "dbae91c2-caf7-4a78-b918-aee2f71f55a5",
   "metadata": {},
   "outputs": [
    {
     "data": {
      "text/plain": [
       "Age\n",
       "Middle Age    25600\n",
       "Old           24500\n",
       "Young         15000\n",
       "Name: Income, dtype: int64"
      ]
     },
     "execution_count": 34,
     "metadata": {},
     "output_type": "execute_result"
    }
   ],
   "source": [
    "df.groupby(\"Age\")[\"Income\"].min()"
   ]
  },
  {
   "cell_type": "code",
   "execution_count": 35,
   "id": "6bb7bc84-4435-4bf2-ab85-c071ec4f4950",
   "metadata": {},
   "outputs": [
    {
     "data": {
      "text/plain": [
       "Age\n",
       "Middle Age    93000\n",
       "Old           89700\n",
       "Young         87000\n",
       "Name: Income, dtype: int64"
      ]
     },
     "execution_count": 35,
     "metadata": {},
     "output_type": "execute_result"
    }
   ],
   "source": [
    "df.groupby(\"Age\")[\"Income\"].max()"
   ]
  },
  {
   "cell_type": "code",
   "execution_count": 41,
   "id": "18662d2f-6ad6-485f-97f9-5a954fd5f620",
   "metadata": {},
   "outputs": [
    {
     "data": {
      "text/plain": [
       "Age\n",
       "Middle Age    52453.333333\n",
       "Old           53942.105263\n",
       "Young         46037.500000\n",
       "Name: Income, dtype: float64"
      ]
     },
     "execution_count": 41,
     "metadata": {},
     "output_type": "execute_result"
    }
   ],
   "source": [
    "data = df.copy()\n",
    "\n",
    "mean_all = data.groupby('Age')['Income'].mean()\n",
    "std_all = data.groupby('Age')['Income'].std()\n",
    "min_all = data.groupby('Age')['Income'].min()\n",
    "max_all = data.groupby('Age')['Income'].max()\n",
    "median_all = data.groupby('Age')['Income'].median()\n",
    "\n",
    "mean_all"
   ]
  },
  {
   "cell_type": "code",
   "execution_count": 42,
   "id": "4b434fe2-834a-4f51-906b-4cf633afa5d4",
   "metadata": {},
   "outputs": [
    {
     "data": {
      "text/plain": [
       "[['Mean : 52453.333333333336',\n",
       "  'Standard Deviation : 20497.800114251517',\n",
       "  'Minimum : 25600',\n",
       "  'Maximum : 93000',\n",
       "  'Median : 53200.0'],\n",
       " ['Mean : 53942.10526315789',\n",
       "  'Standard Deviation : 20868.165968220423',\n",
       "  'Minimum : 24500',\n",
       "  'Maximum : 89700',\n",
       "  'Median : 45300.0'],\n",
       " ['Mean : 46037.5',\n",
       "  'Standard Deviation : 22356.859499193233',\n",
       "  'Minimum : 15000',\n",
       "  'Maximum : 87000',\n",
       "  'Median : 41500.0']]"
      ]
     },
     "execution_count": 42,
     "metadata": {},
     "output_type": "execute_result"
    }
   ],
   "source": [
    "\n",
    "info = []\n",
    "\n",
    "for i in [0,1,2]:\n",
    "    temp = []\n",
    "    temp.append('Mean : {}'.format(mean_all.iloc[i]))\n",
    "    temp.append('Standard Deviation : {}'.format(std_all.iloc[i]))\n",
    "    temp.append('Minimum : {}'.format(min_all.iloc[i]))\n",
    "    temp.append('Maximum : {}'.format(max_all.iloc[i]))\n",
    "    temp.append('Median : {}'.format(median_all.iloc[i]))\n",
    "    info.append(temp)\n",
    "    \n",
    "info"
   ]
  },
  {
   "cell_type": "code",
   "execution_count": 43,
   "id": "e0a77092-0323-484c-8957-4fe8b611b3f0",
   "metadata": {},
   "outputs": [
    {
     "name": "stdout",
     "output_type": "stream",
     "text": [
      "*****Statistics of Middle Age*****\n",
      "Mean : 52453.333333333336\n",
      "Standard Deviation : 20497.800114251517\n",
      "Minimum : 25600\n",
      "Maximum : 93000\n",
      "Median : 53200.0\n",
      "-------------------------------------------------------\n",
      "*****Statistics of Old*****\n",
      "Mean : 53942.10526315789\n",
      "Standard Deviation : 20868.165968220423\n",
      "Minimum : 24500\n",
      "Maximum : 89700\n",
      "Median : 45300.0\n",
      "-------------------------------------------------------\n",
      "*****Statistics of Young*****\n",
      "Mean : 46037.5\n",
      "Standard Deviation : 22356.859499193233\n",
      "Minimum : 15000\n",
      "Maximum : 87000\n",
      "Median : 41500.0\n",
      "-------------------------------------------------------\n"
     ]
    }
   ],
   "source": [
    "diff_categories=['Middle Age','Old','Young']\n",
    "for i in [0,1,2]:\n",
    "    print('*****Statistics of {}*****'.format(diff_categories[i]))\n",
    "    for i in info[i]:\n",
    "        print(i)\n",
    "    \n",
    "    print('-------------------------------------------------------')"
   ]
  },
  {
   "cell_type": "code",
   "execution_count": 44,
   "id": "58a3fa9a-a32c-4820-9524-b1f3fd7718ec",
   "metadata": {},
   "outputs": [],
   "source": [
    "def calMode(df):\n",
    "    for col in df.columns:\n",
    "        if df[col].dtype == 'O':\n",
    "            arr = df[col].sort_values()\n",
    "\n",
    "            prevcnt = 0\n",
    "            cnt = 0\n",
    "            ans = arr[0]\n",
    "            temp = arr[0]\n",
    "\n",
    "            for i in arr:\n",
    "                if(temp == i) :\n",
    "                    cnt += 1\n",
    "                else:\n",
    "                    prevcnt = cnt\n",
    "                    cnt = 1\n",
    "                    temp = i\n",
    "                if(cnt > prevcnt):\n",
    "                    ans = i\n",
    "            \n",
    "            print(\"Without Library -> \")\n",
    "            print(\"Mode of {} is {}\".format(col,ans))\n",
    "            print()\n",
    "            print(\"With Library -> \")\n",
    "            print(df[col].mode())"
   ]
  },
  {
   "cell_type": "code",
   "execution_count": null,
   "id": "8c12191a-43b5-44b7-8695-fae47e549fc3",
   "metadata": {},
   "outputs": [],
   "source": []
  }
 ],
 "metadata": {
  "kernelspec": {
   "display_name": "Python 3 (ipykernel)",
   "language": "python",
   "name": "python3"
  },
  "language_info": {
   "codemirror_mode": {
    "name": "ipython",
    "version": 3
   },
   "file_extension": ".py",
   "mimetype": "text/x-python",
   "name": "python",
   "nbconvert_exporter": "python",
   "pygments_lexer": "ipython3",
   "version": "3.10.4"
  }
 },
 "nbformat": 4,
 "nbformat_minor": 5
}
